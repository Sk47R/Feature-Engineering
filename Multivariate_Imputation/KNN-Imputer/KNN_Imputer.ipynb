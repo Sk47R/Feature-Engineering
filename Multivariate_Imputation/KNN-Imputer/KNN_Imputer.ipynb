{
  "cells": [
    {
      "cell_type": "code",
      "execution_count": 1,
      "metadata": {
        "id": "7vFhZRWDD696"
      },
      "outputs": [],
      "source": [
        "import pandas as pd\n",
        "import numpy as np\n",
        "import matplotlib.pyplot as plt\n",
        "\n",
        "# to split the datasets\n",
        "from sklearn.model_selection import train_test_split\n",
        "\n",
        "# multivariate imputation\n",
        "from sklearn.impute import KNNImputer"
      ]
    },
    {
      "cell_type": "code",
      "execution_count": 2,
      "metadata": {
        "id": "EhZjDrTtEEQb"
      },
      "outputs": [],
      "source": [
        "# list with numerical varables\n",
        "\n",
        "cols_to_use = [\n",
        "    'MSSubClass', 'LotFrontage', 'LotArea', 'OverallQual',\n",
        "    'OverallCond', 'YearBuilt', 'YearRemodAdd', 'MasVnrArea',\n",
        "    'BsmtFinSF1', 'BsmtFinSF2', 'BsmtUnfSF', 'TotalBsmtSF',\n",
        "    '1stFlrSF', '2ndFlrSF', 'LowQualFinSF', 'GrLivArea',\n",
        "    'BsmtFullBath', 'BsmtHalfBath', 'FullBath', 'HalfBath',\n",
        "    'BedroomAbvGr', 'KitchenAbvGr', 'TotRmsAbvGrd',\n",
        "    'Fireplaces', 'GarageYrBlt', 'GarageCars', 'GarageArea',\n",
        "    'WoodDeckSF',  'OpenPorchSF', 'EnclosedPorch', '3SsnPorch',\n",
        "    'ScreenPorch', 'PoolArea', 'MiscVal', 'MoSold', 'YrSold',\n",
        "    'SalePrice'\n",
        "]"
      ]
    },
    {
      "cell_type": "code",
      "execution_count": 4,
      "metadata": {
        "id": "VjidxrE5EHWz"
      },
      "outputs": [],
      "source": [
        "# Loading data\n",
        "ds = pd.read_csv('train.csv', usecols=cols_to_use)"
      ]
    },
    {
      "cell_type": "code",
      "execution_count": 6,
      "metadata": {
        "colab": {
          "base_uri": "https://localhost:8080/"
        },
        "id": "khGTobQMEOdQ",
        "outputId": "165ee1f4-3588-4e37-8083-fb8ef9fc18b8"
      },
      "outputs": [
        {
          "data": {
            "text/plain": [
              "MSSubClass         0\n",
              "LotFrontage      259\n",
              "LotArea            0\n",
              "OverallQual        0\n",
              "OverallCond        0\n",
              "YearBuilt          0\n",
              "YearRemodAdd       0\n",
              "MasVnrArea         8\n",
              "BsmtFinSF1         0\n",
              "BsmtFinSF2         0\n",
              "BsmtUnfSF          0\n",
              "TotalBsmtSF        0\n",
              "1stFlrSF           0\n",
              "2ndFlrSF           0\n",
              "LowQualFinSF       0\n",
              "GrLivArea          0\n",
              "BsmtFullBath       0\n",
              "BsmtHalfBath       0\n",
              "FullBath           0\n",
              "HalfBath           0\n",
              "BedroomAbvGr       0\n",
              "KitchenAbvGr       0\n",
              "TotRmsAbvGrd       0\n",
              "Fireplaces         0\n",
              "GarageYrBlt       81\n",
              "GarageCars         0\n",
              "GarageArea         0\n",
              "WoodDeckSF         0\n",
              "OpenPorchSF        0\n",
              "EnclosedPorch      0\n",
              "3SsnPorch          0\n",
              "ScreenPorch        0\n",
              "PoolArea           0\n",
              "MiscVal            0\n",
              "MoSold             0\n",
              "YrSold             0\n",
              "SalePrice          0\n",
              "dtype: int64"
            ]
          },
          "execution_count": 6,
          "metadata": {},
          "output_type": "execute_result"
        }
      ],
      "source": [
        "ds.isnull().sum()"
      ]
    },
    {
      "cell_type": "markdown",
      "metadata": {
        "id": "AOaN62oSEjR0"
      },
      "source": [
        "We have 3 features having missing values. \n",
        "\n",
        "LotFrontage: 259 missing values\n",
        "\n",
        "MasVnrArea: 8 missing values\n",
        "\n",
        "GarageYrBlt: 81 missing values"
      ]
    },
    {
      "cell_type": "code",
      "execution_count": 7,
      "metadata": {
        "colab": {
          "base_uri": "https://localhost:8080/"
        },
        "id": "ZeS73ljyEYap",
        "outputId": "263ce6b4-39bb-4a3e-817d-710b4707cdc1"
      },
      "outputs": [
        {
          "data": {
            "text/plain": [
              "((1022, 36), (438, 36))"
            ]
          },
          "execution_count": 7,
          "metadata": {},
          "output_type": "execute_result"
        }
      ],
      "source": [
        "# Split the train and test set\n",
        "\n",
        "cols_to_use.remove('SalePrice')\n",
        "\n",
        "X_train, X_test, y_train, y_test = train_test_split(\n",
        "    ds[cols_to_use],\n",
        "    ds['SalePrice'],\n",
        "    test_size=0.3,\n",
        "    random_state=0)\n",
        "\n",
        "# print the shape of X_train and X_test\n",
        "X_train.shape, X_test.shape"
      ]
    },
    {
      "cell_type": "code",
      "execution_count": 8,
      "metadata": {
        "id": "0hUfelmYE54u"
      },
      "outputs": [],
      "source": [
        "# reset index, so we can compare values later\n",
        "X_train.reset_index(inplace=True, drop=True)\n",
        "X_test.reset_index(inplace=True, drop=True)"
      ]
    },
    {
      "cell_type": "markdown",
      "metadata": {
        "id": "zPdN3tb5FDRc"
      },
      "source": [
        "### KNN Imputation"
      ]
    },
    {
      "cell_type": "code",
      "execution_count": 9,
      "metadata": {
        "id": "wLn5gckVFBrO"
      },
      "outputs": [],
      "source": [
        "# Creating the model\n",
        "imputer = KNNImputer(\n",
        "    n_neighbors=5, # the number of neighbours K\n",
        "    weights='distance', # the weighting factor\n",
        "    metric='nan_euclidean', # the metric to find the neighbours\n",
        "    add_indicator=False, # whether to add a missing indicator\n",
        ")"
      ]
    },
    {
      "cell_type": "code",
      "execution_count": 10,
      "metadata": {
        "colab": {
          "base_uri": "https://localhost:8080/"
        },
        "id": "omS_6qUWFLHQ",
        "outputId": "c35275ca-c4fc-43bd-cfa9-5b0d4aa96847"
      },
      "outputs": [
        {
          "data": {
            "text/plain": [
              "KNNImputer(weights='distance')"
            ]
          },
          "execution_count": 10,
          "metadata": {},
          "output_type": "execute_result"
        }
      ],
      "source": [
        "# fitting the model\n",
        "imputer.fit(X_train)"
      ]
    },
    {
      "cell_type": "code",
      "execution_count": 11,
      "metadata": {
        "id": "CMQVXO55FRfZ"
      },
      "outputs": [],
      "source": [
        "# Transform and print the result\n",
        "train_t = imputer.transform(X_train)\n",
        "test_t = imputer.transform(X_test)"
      ]
    },
    {
      "cell_type": "code",
      "execution_count": 12,
      "metadata": {
        "colab": {
          "base_uri": "https://localhost:8080/"
        },
        "id": "r0I362cIFX3N",
        "outputId": "7eeec468-bf1a-4593-9e1a-b213a94d389b"
      },
      "outputs": [
        {
          "name": "stdout",
          "output_type": "stream",
          "text": [
            "[[6.00000000e+01 7.01151417e+01 9.37500000e+03 ... 0.00000000e+00\n",
            "  2.00000000e+00 2.00900000e+03]\n",
            " [1.20000000e+02 4.25330531e+01 2.88700000e+03 ... 0.00000000e+00\n",
            "  1.10000000e+01 2.00800000e+03]\n",
            " [2.00000000e+01 5.00000000e+01 7.20700000e+03 ... 0.00000000e+00\n",
            "  2.00000000e+00 2.01000000e+03]\n",
            " ...\n",
            " [9.00000000e+01 6.80000000e+01 8.93000000e+03 ... 0.00000000e+00\n",
            "  4.00000000e+00 2.01000000e+03]\n",
            " [1.20000000e+02 4.30000000e+01 3.19600000e+03 ... 0.00000000e+00\n",
            "  1.00000000e+01 2.00600000e+03]\n",
            " [6.00000000e+01 5.80000000e+01 1.67700000e+04 ... 0.00000000e+00\n",
            "  6.00000000e+00 2.01000000e+03]]\n"
          ]
        }
      ],
      "source": [
        "print(train_t)"
      ]
    },
    {
      "cell_type": "code",
      "execution_count": 13,
      "metadata": {
        "id": "kXVeKhR8FZyS"
      },
      "outputs": [],
      "source": [
        "# lets convert the array to dataframe\n",
        "train_t = pd.DataFrame(train_t, columns=X_train.columns)\n",
        "test_t = pd.DataFrame(test_t, columns=X_test.columns)\n"
      ]
    },
    {
      "cell_type": "code",
      "execution_count": 15,
      "metadata": {
        "colab": {
          "base_uri": "https://localhost:8080/",
          "height": 300
        },
        "id": "mD2kFKJcFfJb",
        "outputId": "3e9059f4-638e-41c9-c6a2-ac7552ef7829"
      },
      "outputs": [
        {
          "data": {
            "text/html": [
              "\n",
              "  <div id=\"df-f2cb5d1f-b544-4ff9-aad2-0a8a44941441\">\n",
              "    <div class=\"colab-df-container\">\n",
              "      <div>\n",
              "<style scoped>\n",
              "    .dataframe tbody tr th:only-of-type {\n",
              "        vertical-align: middle;\n",
              "    }\n",
              "\n",
              "    .dataframe tbody tr th {\n",
              "        vertical-align: top;\n",
              "    }\n",
              "\n",
              "    .dataframe thead th {\n",
              "        text-align: right;\n",
              "    }\n",
              "</style>\n",
              "<table border=\"1\" class=\"dataframe\">\n",
              "  <thead>\n",
              "    <tr style=\"text-align: right;\">\n",
              "      <th></th>\n",
              "      <th>MSSubClass</th>\n",
              "      <th>LotFrontage</th>\n",
              "      <th>LotArea</th>\n",
              "      <th>OverallQual</th>\n",
              "      <th>OverallCond</th>\n",
              "      <th>YearBuilt</th>\n",
              "      <th>YearRemodAdd</th>\n",
              "      <th>MasVnrArea</th>\n",
              "      <th>BsmtFinSF1</th>\n",
              "      <th>BsmtFinSF2</th>\n",
              "      <th>...</th>\n",
              "      <th>GarageArea</th>\n",
              "      <th>WoodDeckSF</th>\n",
              "      <th>OpenPorchSF</th>\n",
              "      <th>EnclosedPorch</th>\n",
              "      <th>3SsnPorch</th>\n",
              "      <th>ScreenPorch</th>\n",
              "      <th>PoolArea</th>\n",
              "      <th>MiscVal</th>\n",
              "      <th>MoSold</th>\n",
              "      <th>YrSold</th>\n",
              "    </tr>\n",
              "  </thead>\n",
              "  <tbody>\n",
              "    <tr>\n",
              "      <th>0</th>\n",
              "      <td>60.0</td>\n",
              "      <td>70.115142</td>\n",
              "      <td>9375.0</td>\n",
              "      <td>7.0</td>\n",
              "      <td>5.0</td>\n",
              "      <td>1997.0</td>\n",
              "      <td>1998.0</td>\n",
              "      <td>573.0</td>\n",
              "      <td>739.0</td>\n",
              "      <td>0.0</td>\n",
              "      <td>...</td>\n",
              "      <td>645.0</td>\n",
              "      <td>576.0</td>\n",
              "      <td>36.0</td>\n",
              "      <td>0.0</td>\n",
              "      <td>0.0</td>\n",
              "      <td>0.0</td>\n",
              "      <td>0.0</td>\n",
              "      <td>0.0</td>\n",
              "      <td>2.0</td>\n",
              "      <td>2009.0</td>\n",
              "    </tr>\n",
              "    <tr>\n",
              "      <th>1</th>\n",
              "      <td>120.0</td>\n",
              "      <td>42.533053</td>\n",
              "      <td>2887.0</td>\n",
              "      <td>6.0</td>\n",
              "      <td>5.0</td>\n",
              "      <td>1996.0</td>\n",
              "      <td>1997.0</td>\n",
              "      <td>0.0</td>\n",
              "      <td>1003.0</td>\n",
              "      <td>0.0</td>\n",
              "      <td>...</td>\n",
              "      <td>431.0</td>\n",
              "      <td>307.0</td>\n",
              "      <td>0.0</td>\n",
              "      <td>0.0</td>\n",
              "      <td>0.0</td>\n",
              "      <td>0.0</td>\n",
              "      <td>0.0</td>\n",
              "      <td>0.0</td>\n",
              "      <td>11.0</td>\n",
              "      <td>2008.0</td>\n",
              "    </tr>\n",
              "    <tr>\n",
              "      <th>2</th>\n",
              "      <td>20.0</td>\n",
              "      <td>50.000000</td>\n",
              "      <td>7207.0</td>\n",
              "      <td>5.0</td>\n",
              "      <td>7.0</td>\n",
              "      <td>1958.0</td>\n",
              "      <td>2008.0</td>\n",
              "      <td>0.0</td>\n",
              "      <td>696.0</td>\n",
              "      <td>0.0</td>\n",
              "      <td>...</td>\n",
              "      <td>0.0</td>\n",
              "      <td>117.0</td>\n",
              "      <td>0.0</td>\n",
              "      <td>0.0</td>\n",
              "      <td>0.0</td>\n",
              "      <td>0.0</td>\n",
              "      <td>0.0</td>\n",
              "      <td>0.0</td>\n",
              "      <td>2.0</td>\n",
              "      <td>2010.0</td>\n",
              "    </tr>\n",
              "    <tr>\n",
              "      <th>3</th>\n",
              "      <td>50.0</td>\n",
              "      <td>60.000000</td>\n",
              "      <td>9060.0</td>\n",
              "      <td>6.0</td>\n",
              "      <td>5.0</td>\n",
              "      <td>1939.0</td>\n",
              "      <td>1950.0</td>\n",
              "      <td>0.0</td>\n",
              "      <td>204.0</td>\n",
              "      <td>0.0</td>\n",
              "      <td>...</td>\n",
              "      <td>280.0</td>\n",
              "      <td>0.0</td>\n",
              "      <td>0.0</td>\n",
              "      <td>0.0</td>\n",
              "      <td>0.0</td>\n",
              "      <td>0.0</td>\n",
              "      <td>0.0</td>\n",
              "      <td>0.0</td>\n",
              "      <td>10.0</td>\n",
              "      <td>2009.0</td>\n",
              "    </tr>\n",
              "    <tr>\n",
              "      <th>4</th>\n",
              "      <td>30.0</td>\n",
              "      <td>60.000000</td>\n",
              "      <td>8400.0</td>\n",
              "      <td>2.0</td>\n",
              "      <td>5.0</td>\n",
              "      <td>1920.0</td>\n",
              "      <td>1950.0</td>\n",
              "      <td>0.0</td>\n",
              "      <td>290.0</td>\n",
              "      <td>0.0</td>\n",
              "      <td>...</td>\n",
              "      <td>246.0</td>\n",
              "      <td>0.0</td>\n",
              "      <td>0.0</td>\n",
              "      <td>0.0</td>\n",
              "      <td>0.0</td>\n",
              "      <td>0.0</td>\n",
              "      <td>0.0</td>\n",
              "      <td>0.0</td>\n",
              "      <td>1.0</td>\n",
              "      <td>2009.0</td>\n",
              "    </tr>\n",
              "  </tbody>\n",
              "</table>\n",
              "<p>5 rows × 36 columns</p>\n",
              "</div>\n",
              "      <button class=\"colab-df-convert\" onclick=\"convertToInteractive('df-f2cb5d1f-b544-4ff9-aad2-0a8a44941441')\"\n",
              "              title=\"Convert this dataframe to an interactive table.\"\n",
              "              style=\"display:none;\">\n",
              "        \n",
              "  <svg xmlns=\"http://www.w3.org/2000/svg\" height=\"24px\"viewBox=\"0 0 24 24\"\n",
              "       width=\"24px\">\n",
              "    <path d=\"M0 0h24v24H0V0z\" fill=\"none\"/>\n",
              "    <path d=\"M18.56 5.44l.94 2.06.94-2.06 2.06-.94-2.06-.94-.94-2.06-.94 2.06-2.06.94zm-11 1L8.5 8.5l.94-2.06 2.06-.94-2.06-.94L8.5 2.5l-.94 2.06-2.06.94zm10 10l.94 2.06.94-2.06 2.06-.94-2.06-.94-.94-2.06-.94 2.06-2.06.94z\"/><path d=\"M17.41 7.96l-1.37-1.37c-.4-.4-.92-.59-1.43-.59-.52 0-1.04.2-1.43.59L10.3 9.45l-7.72 7.72c-.78.78-.78 2.05 0 2.83L4 21.41c.39.39.9.59 1.41.59.51 0 1.02-.2 1.41-.59l7.78-7.78 2.81-2.81c.8-.78.8-2.07 0-2.86zM5.41 20L4 18.59l7.72-7.72 1.47 1.35L5.41 20z\"/>\n",
              "  </svg>\n",
              "      </button>\n",
              "      \n",
              "  <style>\n",
              "    .colab-df-container {\n",
              "      display:flex;\n",
              "      flex-wrap:wrap;\n",
              "      gap: 12px;\n",
              "    }\n",
              "\n",
              "    .colab-df-convert {\n",
              "      background-color: #E8F0FE;\n",
              "      border: none;\n",
              "      border-radius: 50%;\n",
              "      cursor: pointer;\n",
              "      display: none;\n",
              "      fill: #1967D2;\n",
              "      height: 32px;\n",
              "      padding: 0 0 0 0;\n",
              "      width: 32px;\n",
              "    }\n",
              "\n",
              "    .colab-df-convert:hover {\n",
              "      background-color: #E2EBFA;\n",
              "      box-shadow: 0px 1px 2px rgba(60, 64, 67, 0.3), 0px 1px 3px 1px rgba(60, 64, 67, 0.15);\n",
              "      fill: #174EA6;\n",
              "    }\n",
              "\n",
              "    [theme=dark] .colab-df-convert {\n",
              "      background-color: #3B4455;\n",
              "      fill: #D2E3FC;\n",
              "    }\n",
              "\n",
              "    [theme=dark] .colab-df-convert:hover {\n",
              "      background-color: #434B5C;\n",
              "      box-shadow: 0px 1px 3px 1px rgba(0, 0, 0, 0.15);\n",
              "      filter: drop-shadow(0px 1px 2px rgba(0, 0, 0, 0.3));\n",
              "      fill: #FFFFFF;\n",
              "    }\n",
              "  </style>\n",
              "\n",
              "      <script>\n",
              "        const buttonEl =\n",
              "          document.querySelector('#df-f2cb5d1f-b544-4ff9-aad2-0a8a44941441 button.colab-df-convert');\n",
              "        buttonEl.style.display =\n",
              "          google.colab.kernel.accessAllowed ? 'block' : 'none';\n",
              "\n",
              "        async function convertToInteractive(key) {\n",
              "          const element = document.querySelector('#df-f2cb5d1f-b544-4ff9-aad2-0a8a44941441');\n",
              "          const dataTable =\n",
              "            await google.colab.kernel.invokeFunction('convertToInteractive',\n",
              "                                                     [key], {});\n",
              "          if (!dataTable) return;\n",
              "\n",
              "          const docLinkHtml = 'Like what you see? Visit the ' +\n",
              "            '<a target=\"_blank\" href=https://colab.research.google.com/notebooks/data_table.ipynb>data table notebook</a>'\n",
              "            + ' to learn more about interactive tables.';\n",
              "          element.innerHTML = '';\n",
              "          dataTable['output_type'] = 'display_data';\n",
              "          await google.colab.output.renderOutput(dataTable, element);\n",
              "          const docLink = document.createElement('div');\n",
              "          docLink.innerHTML = docLinkHtml;\n",
              "          element.appendChild(docLink);\n",
              "        }\n",
              "      </script>\n",
              "    </div>\n",
              "  </div>\n",
              "  "
            ],
            "text/plain": [
              "   MSSubClass  LotFrontage  LotArea  OverallQual  OverallCond  YearBuilt  \\\n",
              "0        60.0    70.115142   9375.0          7.0          5.0     1997.0   \n",
              "1       120.0    42.533053   2887.0          6.0          5.0     1996.0   \n",
              "2        20.0    50.000000   7207.0          5.0          7.0     1958.0   \n",
              "3        50.0    60.000000   9060.0          6.0          5.0     1939.0   \n",
              "4        30.0    60.000000   8400.0          2.0          5.0     1920.0   \n",
              "\n",
              "   YearRemodAdd  MasVnrArea  BsmtFinSF1  BsmtFinSF2  ...  GarageArea  \\\n",
              "0        1998.0       573.0       739.0         0.0  ...       645.0   \n",
              "1        1997.0         0.0      1003.0         0.0  ...       431.0   \n",
              "2        2008.0         0.0       696.0         0.0  ...         0.0   \n",
              "3        1950.0         0.0       204.0         0.0  ...       280.0   \n",
              "4        1950.0         0.0       290.0         0.0  ...       246.0   \n",
              "\n",
              "   WoodDeckSF  OpenPorchSF  EnclosedPorch  3SsnPorch  ScreenPorch  PoolArea  \\\n",
              "0       576.0         36.0            0.0        0.0          0.0       0.0   \n",
              "1       307.0          0.0            0.0        0.0          0.0       0.0   \n",
              "2       117.0          0.0            0.0        0.0          0.0       0.0   \n",
              "3         0.0          0.0            0.0        0.0          0.0       0.0   \n",
              "4         0.0          0.0            0.0        0.0          0.0       0.0   \n",
              "\n",
              "   MiscVal  MoSold  YrSold  \n",
              "0      0.0     2.0  2009.0  \n",
              "1      0.0    11.0  2008.0  \n",
              "2      0.0     2.0  2010.0  \n",
              "3      0.0    10.0  2009.0  \n",
              "4      0.0     1.0  2009.0  \n",
              "\n",
              "[5 rows x 36 columns]"
            ]
          },
          "execution_count": 15,
          "metadata": {},
          "output_type": "execute_result"
        }
      ],
      "source": [
        "train_t.head()"
      ]
    },
    {
      "cell_type": "code",
      "execution_count": 16,
      "metadata": {
        "colab": {
          "base_uri": "https://localhost:8080/"
        },
        "id": "kY41TZgFFgGl",
        "outputId": "52ef3a59-5338-4392-9d5f-9c88e867bc0b"
      },
      "outputs": [
        {
          "data": {
            "text/plain": [
              "LotFrontage    0\n",
              "MasVnrArea     0\n",
              "GarageYrBlt    0\n",
              "dtype: int64"
            ]
          },
          "execution_count": 16,
          "metadata": {},
          "output_type": "execute_result"
        }
      ],
      "source": [
        "# let's check whether imputation has been performed or not\n",
        "\n",
        "train_t[['LotFrontage', 'MasVnrArea', 'GarageYrBlt']].isnull().sum()"
      ]
    },
    {
      "cell_type": "code",
      "execution_count": 17,
      "metadata": {
        "colab": {
          "base_uri": "https://localhost:8080/"
        },
        "id": "8KMu85LeFrEo",
        "outputId": "b975560d-23ab-423b-b839-52c965e9e99e"
      },
      "outputs": [
        {
          "data": {
            "text/plain": [
              "420   NaN\n",
              "490   NaN\n",
              "642   NaN\n",
              "824   NaN\n",
              "921   NaN\n",
              "Name: MasVnrArea, dtype: float64"
            ]
          },
          "execution_count": 17,
          "metadata": {},
          "output_type": "execute_result"
        }
      ],
      "source": [
        "# the obseravtions with NaN in the original train set of MasVnrArea column\n",
        "\n",
        "X_train[X_train['MasVnrArea'].isnull()]['MasVnrArea']"
      ]
    },
    {
      "cell_type": "code",
      "execution_count": 18,
      "metadata": {
        "colab": {
          "base_uri": "https://localhost:8080/"
        },
        "id": "2ucmU18PF5n6",
        "outputId": "e5422700-f09f-4ba2-c0f5-bb1ad4fb65ab"
      },
      "outputs": [
        {
          "data": {
            "text/plain": [
              "420     99.765717\n",
              "490     34.106592\n",
              "642      0.000000\n",
              "824    375.749332\n",
              "921     85.817715\n",
              "Name: MasVnrArea, dtype: float64"
            ]
          },
          "execution_count": 18,
          "metadata": {},
          "output_type": "execute_result"
        }
      ],
      "source": [
        "# the replacement values in the transformed dataset\n",
        "\n",
        "train_t[X_train['MasVnrArea'].isnull()]['MasVnrArea']"
      ]
    },
    {
      "cell_type": "code",
      "execution_count": 19,
      "metadata": {
        "colab": {
          "base_uri": "https://localhost:8080/"
        },
        "id": "p5NMk7TjF8cp",
        "outputId": "3df99853-af13-4850-f597-a3fbdc658d97"
      },
      "outputs": [
        {
          "data": {
            "text/plain": [
              "0       573.0\n",
              "1         0.0\n",
              "2         0.0\n",
              "3         0.0\n",
              "4         0.0\n",
              "        ...  \n",
              "1017    673.0\n",
              "1018      0.0\n",
              "1019      0.0\n",
              "1020     18.0\n",
              "1021     30.0\n",
              "Name: MasVnrArea, Length: 1022, dtype: float64"
            ]
          },
          "execution_count": 19,
          "metadata": {},
          "output_type": "execute_result"
        }
      ],
      "source": [
        "X_train['MasVnrArea']"
      ]
    },
    {
      "cell_type": "code",
      "execution_count": 20,
      "metadata": {
        "colab": {
          "base_uri": "https://localhost:8080/"
        },
        "id": "iOtQ4aKiGG1D",
        "outputId": "fa1399ff-6192-488d-e4f0-ed736f2d5dd4"
      },
      "outputs": [
        {
          "data": {
            "text/plain": [
              "103.55358898721731"
            ]
          },
          "execution_count": 20,
          "metadata": {},
          "output_type": "execute_result"
        }
      ],
      "source": [
        "# the mean value of the variable (i.e., for mean imputation)\n",
        "\n",
        "X_train['MasVnrArea'].mean()"
      ]
    },
    {
      "cell_type": "markdown",
      "metadata": {
        "id": "TE4oqH5uGxXc"
      },
      "source": [
        "### Imputing a slice of the dataframe\n",
        "We can use Feature-engine to apply the KNNImputer to a slice of the dataframe."
      ]
    },
    {
      "cell_type": "code",
      "execution_count": 21,
      "metadata": {
        "colab": {
          "base_uri": "https://localhost:8080/"
        },
        "id": "j3yAeYz2GQEx",
        "outputId": "6f575b71-d631-4d05-b21b-fdd2506da9fc"
      },
      "outputs": [
        {
          "name": "stdout",
          "output_type": "stream",
          "text": [
            "Looking in indexes: https://pypi.org/simple, https://us-python.pkg.dev/colab-wheels/public/simple/\n",
            "Collecting feature_engine\n",
            "  Downloading feature_engine-1.4.0-py2.py3-none-any.whl (276 kB)\n",
            "\u001b[K     |████████████████████████████████| 276 kB 26.3 MB/s \n",
            "\u001b[?25hRequirement already satisfied: numpy>=1.18.2 in /usr/local/lib/python3.7/dist-packages (from feature_engine) (1.21.6)\n",
            "Requirement already satisfied: pandas>=1.0.3 in /usr/local/lib/python3.7/dist-packages (from feature_engine) (1.3.5)\n",
            "Requirement already satisfied: scipy>=1.4.1 in /usr/local/lib/python3.7/dist-packages (from feature_engine) (1.7.3)\n",
            "Requirement already satisfied: statsmodels>=0.11.1 in /usr/local/lib/python3.7/dist-packages (from feature_engine) (0.12.2)\n",
            "Requirement already satisfied: scikit-learn>=1.0.0 in /usr/local/lib/python3.7/dist-packages (from feature_engine) (1.0.2)\n",
            "Requirement already satisfied: pytz>=2017.3 in /usr/local/lib/python3.7/dist-packages (from pandas>=1.0.3->feature_engine) (2022.6)\n",
            "Requirement already satisfied: python-dateutil>=2.7.3 in /usr/local/lib/python3.7/dist-packages (from pandas>=1.0.3->feature_engine) (2.8.2)\n",
            "Requirement already satisfied: six>=1.5 in /usr/local/lib/python3.7/dist-packages (from python-dateutil>=2.7.3->pandas>=1.0.3->feature_engine) (1.15.0)\n",
            "Requirement already satisfied: threadpoolctl>=2.0.0 in /usr/local/lib/python3.7/dist-packages (from scikit-learn>=1.0.0->feature_engine) (3.1.0)\n",
            "Requirement already satisfied: joblib>=0.11 in /usr/local/lib/python3.7/dist-packages (from scikit-learn>=1.0.0->feature_engine) (1.2.0)\n",
            "Requirement already satisfied: patsy>=0.5 in /usr/local/lib/python3.7/dist-packages (from statsmodels>=0.11.1->feature_engine) (0.5.3)\n",
            "Installing collected packages: feature-engine\n",
            "Successfully installed feature-engine-1.4.0\n"
          ]
        }
      ],
      "source": [
        "!pip install feature_engine"
      ]
    },
    {
      "cell_type": "code",
      "execution_count": 22,
      "metadata": {
        "id": "4BlkTUhYG4bC"
      },
      "outputs": [],
      "source": [
        "from feature_engine.wrappers import SklearnTransformerWrapper"
      ]
    },
    {
      "cell_type": "code",
      "execution_count": 23,
      "metadata": {
        "colab": {
          "base_uri": "https://localhost:8080/"
        },
        "id": "95eypBkaG6e2",
        "outputId": "b8554c5a-f78e-43d8-83b8-d39b70884ffa"
      },
      "outputs": [
        {
          "data": {
            "text/plain": [
              "((1022, 80), (438, 80))"
            ]
          },
          "execution_count": 23,
          "metadata": {},
          "output_type": "execute_result"
        }
      ],
      "source": [
        "ds = pd.read_csv('train.csv')\n",
        "\n",
        "X_train, X_test, y_train, y_test = train_test_split(\n",
        "    ds.drop('SalePrice', axis=1),\n",
        "    ds['SalePrice'],\n",
        "    test_size=0.3,\n",
        "    random_state=0)\n",
        "\n",
        "# print the shapes\n",
        "X_train.shape, X_test.shape"
      ]
    },
    {
      "cell_type": "code",
      "execution_count": 24,
      "metadata": {
        "id": "4-vdx3ImHAzJ"
      },
      "outputs": [],
      "source": [
        "# start the KNNimputer inside the SKlearnTransformerWrapper\n",
        "\n",
        "imputer = SklearnTransformerWrapper(\n",
        "    transformer = KNNImputer(weights='distance'),\n",
        "    variables = cols_to_use,\n",
        ")"
      ]
    },
    {
      "cell_type": "code",
      "execution_count": 25,
      "metadata": {
        "colab": {
          "base_uri": "https://localhost:8080/"
        },
        "id": "kf3cyxcxHDnJ",
        "outputId": "615a33cc-f6f8-4e7c-b048-6ef3a7a2263c"
      },
      "outputs": [
        {
          "data": {
            "text/plain": [
              "['MSSubClass',\n",
              " 'LotFrontage',\n",
              " 'LotArea',\n",
              " 'OverallQual',\n",
              " 'OverallCond',\n",
              " 'YearBuilt',\n",
              " 'YearRemodAdd',\n",
              " 'MasVnrArea',\n",
              " 'BsmtFinSF1',\n",
              " 'BsmtFinSF2',\n",
              " 'BsmtUnfSF',\n",
              " 'TotalBsmtSF',\n",
              " '1stFlrSF',\n",
              " '2ndFlrSF',\n",
              " 'LowQualFinSF',\n",
              " 'GrLivArea',\n",
              " 'BsmtFullBath',\n",
              " 'BsmtHalfBath',\n",
              " 'FullBath',\n",
              " 'HalfBath',\n",
              " 'BedroomAbvGr',\n",
              " 'KitchenAbvGr',\n",
              " 'TotRmsAbvGrd',\n",
              " 'Fireplaces',\n",
              " 'GarageYrBlt',\n",
              " 'GarageCars',\n",
              " 'GarageArea',\n",
              " 'WoodDeckSF',\n",
              " 'OpenPorchSF',\n",
              " 'EnclosedPorch',\n",
              " '3SsnPorch',\n",
              " 'ScreenPorch',\n",
              " 'PoolArea',\n",
              " 'MiscVal',\n",
              " 'MoSold',\n",
              " 'YrSold']"
            ]
          },
          "execution_count": 25,
          "metadata": {},
          "output_type": "execute_result"
        }
      ],
      "source": [
        "# we will consider only these columns during the imputation\n",
        "cols_to_use"
      ]
    },
    {
      "cell_type": "code",
      "execution_count": 26,
      "metadata": {
        "colab": {
          "base_uri": "https://localhost:8080/",
          "height": 300
        },
        "id": "U6hvoNCbHG6x",
        "outputId": "f68f7ad3-13d5-46e0-f034-60bd79e5fcc4"
      },
      "outputs": [
        {
          "data": {
            "text/html": [
              "\n",
              "  <div id=\"df-00245b3f-668e-4324-8eed-5e4e6653db16\">\n",
              "    <div class=\"colab-df-container\">\n",
              "      <div>\n",
              "<style scoped>\n",
              "    .dataframe tbody tr th:only-of-type {\n",
              "        vertical-align: middle;\n",
              "    }\n",
              "\n",
              "    .dataframe tbody tr th {\n",
              "        vertical-align: top;\n",
              "    }\n",
              "\n",
              "    .dataframe thead th {\n",
              "        text-align: right;\n",
              "    }\n",
              "</style>\n",
              "<table border=\"1\" class=\"dataframe\">\n",
              "  <thead>\n",
              "    <tr style=\"text-align: right;\">\n",
              "      <th></th>\n",
              "      <th>Id</th>\n",
              "      <th>MSSubClass</th>\n",
              "      <th>MSZoning</th>\n",
              "      <th>LotFrontage</th>\n",
              "      <th>LotArea</th>\n",
              "      <th>Street</th>\n",
              "      <th>Alley</th>\n",
              "      <th>LotShape</th>\n",
              "      <th>LandContour</th>\n",
              "      <th>Utilities</th>\n",
              "      <th>...</th>\n",
              "      <th>ScreenPorch</th>\n",
              "      <th>PoolArea</th>\n",
              "      <th>PoolQC</th>\n",
              "      <th>Fence</th>\n",
              "      <th>MiscFeature</th>\n",
              "      <th>MiscVal</th>\n",
              "      <th>MoSold</th>\n",
              "      <th>YrSold</th>\n",
              "      <th>SaleType</th>\n",
              "      <th>SaleCondition</th>\n",
              "    </tr>\n",
              "  </thead>\n",
              "  <tbody>\n",
              "    <tr>\n",
              "      <th>64</th>\n",
              "      <td>65</td>\n",
              "      <td>60.0</td>\n",
              "      <td>RL</td>\n",
              "      <td>70.115142</td>\n",
              "      <td>9375.0</td>\n",
              "      <td>Pave</td>\n",
              "      <td>NaN</td>\n",
              "      <td>Reg</td>\n",
              "      <td>Lvl</td>\n",
              "      <td>AllPub</td>\n",
              "      <td>...</td>\n",
              "      <td>0.0</td>\n",
              "      <td>0.0</td>\n",
              "      <td>NaN</td>\n",
              "      <td>GdPrv</td>\n",
              "      <td>NaN</td>\n",
              "      <td>0.0</td>\n",
              "      <td>2.0</td>\n",
              "      <td>2009.0</td>\n",
              "      <td>WD</td>\n",
              "      <td>Normal</td>\n",
              "    </tr>\n",
              "    <tr>\n",
              "      <th>682</th>\n",
              "      <td>683</td>\n",
              "      <td>120.0</td>\n",
              "      <td>RL</td>\n",
              "      <td>42.533053</td>\n",
              "      <td>2887.0</td>\n",
              "      <td>Pave</td>\n",
              "      <td>NaN</td>\n",
              "      <td>Reg</td>\n",
              "      <td>HLS</td>\n",
              "      <td>AllPub</td>\n",
              "      <td>...</td>\n",
              "      <td>0.0</td>\n",
              "      <td>0.0</td>\n",
              "      <td>NaN</td>\n",
              "      <td>NaN</td>\n",
              "      <td>NaN</td>\n",
              "      <td>0.0</td>\n",
              "      <td>11.0</td>\n",
              "      <td>2008.0</td>\n",
              "      <td>WD</td>\n",
              "      <td>Normal</td>\n",
              "    </tr>\n",
              "    <tr>\n",
              "      <th>960</th>\n",
              "      <td>961</td>\n",
              "      <td>20.0</td>\n",
              "      <td>RL</td>\n",
              "      <td>50.000000</td>\n",
              "      <td>7207.0</td>\n",
              "      <td>Pave</td>\n",
              "      <td>NaN</td>\n",
              "      <td>IR1</td>\n",
              "      <td>Lvl</td>\n",
              "      <td>AllPub</td>\n",
              "      <td>...</td>\n",
              "      <td>0.0</td>\n",
              "      <td>0.0</td>\n",
              "      <td>NaN</td>\n",
              "      <td>NaN</td>\n",
              "      <td>NaN</td>\n",
              "      <td>0.0</td>\n",
              "      <td>2.0</td>\n",
              "      <td>2010.0</td>\n",
              "      <td>WD</td>\n",
              "      <td>Normal</td>\n",
              "    </tr>\n",
              "    <tr>\n",
              "      <th>1384</th>\n",
              "      <td>1385</td>\n",
              "      <td>50.0</td>\n",
              "      <td>RL</td>\n",
              "      <td>60.000000</td>\n",
              "      <td>9060.0</td>\n",
              "      <td>Pave</td>\n",
              "      <td>NaN</td>\n",
              "      <td>Reg</td>\n",
              "      <td>Lvl</td>\n",
              "      <td>AllPub</td>\n",
              "      <td>...</td>\n",
              "      <td>0.0</td>\n",
              "      <td>0.0</td>\n",
              "      <td>NaN</td>\n",
              "      <td>MnPrv</td>\n",
              "      <td>NaN</td>\n",
              "      <td>0.0</td>\n",
              "      <td>10.0</td>\n",
              "      <td>2009.0</td>\n",
              "      <td>WD</td>\n",
              "      <td>Normal</td>\n",
              "    </tr>\n",
              "    <tr>\n",
              "      <th>1100</th>\n",
              "      <td>1101</td>\n",
              "      <td>30.0</td>\n",
              "      <td>RL</td>\n",
              "      <td>60.000000</td>\n",
              "      <td>8400.0</td>\n",
              "      <td>Pave</td>\n",
              "      <td>NaN</td>\n",
              "      <td>Reg</td>\n",
              "      <td>Bnk</td>\n",
              "      <td>AllPub</td>\n",
              "      <td>...</td>\n",
              "      <td>0.0</td>\n",
              "      <td>0.0</td>\n",
              "      <td>NaN</td>\n",
              "      <td>NaN</td>\n",
              "      <td>NaN</td>\n",
              "      <td>0.0</td>\n",
              "      <td>1.0</td>\n",
              "      <td>2009.0</td>\n",
              "      <td>WD</td>\n",
              "      <td>Normal</td>\n",
              "    </tr>\n",
              "  </tbody>\n",
              "</table>\n",
              "<p>5 rows × 80 columns</p>\n",
              "</div>\n",
              "      <button class=\"colab-df-convert\" onclick=\"convertToInteractive('df-00245b3f-668e-4324-8eed-5e4e6653db16')\"\n",
              "              title=\"Convert this dataframe to an interactive table.\"\n",
              "              style=\"display:none;\">\n",
              "        \n",
              "  <svg xmlns=\"http://www.w3.org/2000/svg\" height=\"24px\"viewBox=\"0 0 24 24\"\n",
              "       width=\"24px\">\n",
              "    <path d=\"M0 0h24v24H0V0z\" fill=\"none\"/>\n",
              "    <path d=\"M18.56 5.44l.94 2.06.94-2.06 2.06-.94-2.06-.94-.94-2.06-.94 2.06-2.06.94zm-11 1L8.5 8.5l.94-2.06 2.06-.94-2.06-.94L8.5 2.5l-.94 2.06-2.06.94zm10 10l.94 2.06.94-2.06 2.06-.94-2.06-.94-.94-2.06-.94 2.06-2.06.94z\"/><path d=\"M17.41 7.96l-1.37-1.37c-.4-.4-.92-.59-1.43-.59-.52 0-1.04.2-1.43.59L10.3 9.45l-7.72 7.72c-.78.78-.78 2.05 0 2.83L4 21.41c.39.39.9.59 1.41.59.51 0 1.02-.2 1.41-.59l7.78-7.78 2.81-2.81c.8-.78.8-2.07 0-2.86zM5.41 20L4 18.59l7.72-7.72 1.47 1.35L5.41 20z\"/>\n",
              "  </svg>\n",
              "      </button>\n",
              "      \n",
              "  <style>\n",
              "    .colab-df-container {\n",
              "      display:flex;\n",
              "      flex-wrap:wrap;\n",
              "      gap: 12px;\n",
              "    }\n",
              "\n",
              "    .colab-df-convert {\n",
              "      background-color: #E8F0FE;\n",
              "      border: none;\n",
              "      border-radius: 50%;\n",
              "      cursor: pointer;\n",
              "      display: none;\n",
              "      fill: #1967D2;\n",
              "      height: 32px;\n",
              "      padding: 0 0 0 0;\n",
              "      width: 32px;\n",
              "    }\n",
              "\n",
              "    .colab-df-convert:hover {\n",
              "      background-color: #E2EBFA;\n",
              "      box-shadow: 0px 1px 2px rgba(60, 64, 67, 0.3), 0px 1px 3px 1px rgba(60, 64, 67, 0.15);\n",
              "      fill: #174EA6;\n",
              "    }\n",
              "\n",
              "    [theme=dark] .colab-df-convert {\n",
              "      background-color: #3B4455;\n",
              "      fill: #D2E3FC;\n",
              "    }\n",
              "\n",
              "    [theme=dark] .colab-df-convert:hover {\n",
              "      background-color: #434B5C;\n",
              "      box-shadow: 0px 1px 3px 1px rgba(0, 0, 0, 0.15);\n",
              "      filter: drop-shadow(0px 1px 2px rgba(0, 0, 0, 0.3));\n",
              "      fill: #FFFFFF;\n",
              "    }\n",
              "  </style>\n",
              "\n",
              "      <script>\n",
              "        const buttonEl =\n",
              "          document.querySelector('#df-00245b3f-668e-4324-8eed-5e4e6653db16 button.colab-df-convert');\n",
              "        buttonEl.style.display =\n",
              "          google.colab.kernel.accessAllowed ? 'block' : 'none';\n",
              "\n",
              "        async function convertToInteractive(key) {\n",
              "          const element = document.querySelector('#df-00245b3f-668e-4324-8eed-5e4e6653db16');\n",
              "          const dataTable =\n",
              "            await google.colab.kernel.invokeFunction('convertToInteractive',\n",
              "                                                     [key], {});\n",
              "          if (!dataTable) return;\n",
              "\n",
              "          const docLinkHtml = 'Like what you see? Visit the ' +\n",
              "            '<a target=\"_blank\" href=https://colab.research.google.com/notebooks/data_table.ipynb>data table notebook</a>'\n",
              "            + ' to learn more about interactive tables.';\n",
              "          element.innerHTML = '';\n",
              "          dataTable['output_type'] = 'display_data';\n",
              "          await google.colab.output.renderOutput(dataTable, element);\n",
              "          const docLink = document.createElement('div');\n",
              "          docLink.innerHTML = docLinkHtml;\n",
              "          element.appendChild(docLink);\n",
              "        }\n",
              "      </script>\n",
              "    </div>\n",
              "  </div>\n",
              "  "
            ],
            "text/plain": [
              "        Id  MSSubClass MSZoning  LotFrontage  LotArea Street Alley LotShape  \\\n",
              "64      65        60.0       RL    70.115142   9375.0   Pave   NaN      Reg   \n",
              "682    683       120.0       RL    42.533053   2887.0   Pave   NaN      Reg   \n",
              "960    961        20.0       RL    50.000000   7207.0   Pave   NaN      IR1   \n",
              "1384  1385        50.0       RL    60.000000   9060.0   Pave   NaN      Reg   \n",
              "1100  1101        30.0       RL    60.000000   8400.0   Pave   NaN      Reg   \n",
              "\n",
              "     LandContour Utilities  ... ScreenPorch PoolArea PoolQC  Fence  \\\n",
              "64           Lvl    AllPub  ...         0.0      0.0    NaN  GdPrv   \n",
              "682          HLS    AllPub  ...         0.0      0.0    NaN    NaN   \n",
              "960          Lvl    AllPub  ...         0.0      0.0    NaN    NaN   \n",
              "1384         Lvl    AllPub  ...         0.0      0.0    NaN  MnPrv   \n",
              "1100         Bnk    AllPub  ...         0.0      0.0    NaN    NaN   \n",
              "\n",
              "     MiscFeature MiscVal MoSold  YrSold  SaleType  SaleCondition  \n",
              "64           NaN     0.0    2.0  2009.0        WD         Normal  \n",
              "682          NaN     0.0   11.0  2008.0        WD         Normal  \n",
              "960          NaN     0.0    2.0  2010.0        WD         Normal  \n",
              "1384         NaN     0.0   10.0  2009.0        WD         Normal  \n",
              "1100         NaN     0.0    1.0  2009.0        WD         Normal  \n",
              "\n",
              "[5 rows x 80 columns]"
            ]
          },
          "execution_count": 26,
          "metadata": {},
          "output_type": "execute_result"
        }
      ],
      "source": [
        "# fit the wrapper + KNNImputer\n",
        "imputer.fit(X_train)\n",
        "\n",
        "# transform the data\n",
        "train_t = imputer.transform(X_train)\n",
        "test_t = imputer.transform(X_test)\n",
        "\n",
        "# feature-engine returns a dataframe\n",
        "train_t.head()"
      ]
    },
    {
      "cell_type": "code",
      "execution_count": 27,
      "metadata": {
        "colab": {
          "base_uri": "https://localhost:8080/"
        },
        "id": "4NHqnJQDHPMm",
        "outputId": "3089861d-38dd-485a-df07-b6c6333b6f0f"
      },
      "outputs": [
        {
          "data": {
            "text/plain": [
              "0"
            ]
          },
          "execution_count": 27,
          "metadata": {},
          "output_type": "execute_result"
        }
      ],
      "source": [
        "# Check for NaN value \n",
        "train_t['MasVnrArea'].isnull().sum()"
      ]
    },
    {
      "cell_type": "code",
      "execution_count": 28,
      "metadata": {
        "colab": {
          "base_uri": "https://localhost:8080/"
        },
        "id": "VE40M-nBHTcT",
        "outputId": "eed4654a-6a0b-4552-9a82-8595ab8de7ac"
      },
      "outputs": [
        {
          "data": {
            "text/plain": [
              "1278     99.765717\n",
              "936      34.106592\n",
              "650       0.000000\n",
              "234     375.749332\n",
              "973      85.817715\n",
              "Name: MasVnrArea, dtype: float64"
            ]
          },
          "execution_count": 28,
          "metadata": {},
          "output_type": "execute_result"
        }
      ],
      "source": [
        "# the replacement values in the transformed dataset\n",
        "\n",
        "train_t[X_train['MasVnrArea'].isnull()]['MasVnrArea']"
      ]
    },
    {
      "cell_type": "markdown",
      "metadata": {
        "id": "bUCLslmmHabA"
      },
      "source": [
        "as we can see, the values are exactly same as previous, i.e. computed using sk-learn."
      ]
    },
    {
      "cell_type": "markdown",
      "metadata": {
        "id": "MKxvhMzCHtsq"
      },
      "source": [
        "### Automatically find best imputation parameters\n"
      ]
    },
    {
      "cell_type": "code",
      "execution_count": 29,
      "metadata": {
        "id": "h7FM02hEHpwL"
      },
      "outputs": [],
      "source": [
        "# import extra classes for modelling\n",
        "from sklearn.preprocessing import StandardScaler\n",
        "from sklearn.linear_model import Lasso\n",
        "from sklearn.pipeline import Pipeline\n",
        "from sklearn.model_selection import GridSearchCV"
      ]
    },
    {
      "cell_type": "code",
      "execution_count": 30,
      "metadata": {
        "colab": {
          "base_uri": "https://localhost:8080/"
        },
        "id": "Jga4iA69HZtd",
        "outputId": "f278e20e-68ec-472d-a049-b8c8b746a6bc"
      },
      "outputs": [
        {
          "data": {
            "text/plain": [
              "((1022, 36), (438, 36))"
            ]
          },
          "execution_count": 30,
          "metadata": {},
          "output_type": "execute_result"
        }
      ],
      "source": [
        "# Splitting test and train set\n",
        "X_train, X_test, y_train, y_test = train_test_split(\n",
        "    ds[cols_to_use],  # just the features\n",
        "    ds['SalePrice'],  # the target\n",
        "    test_size=0.3,  # the percentage of obs in the test set\n",
        "    random_state=0)  # for reproducibility\n",
        "\n",
        "X_train.shape, X_test.shape"
      ]
    },
    {
      "cell_type": "code",
      "execution_count": 31,
      "metadata": {
        "id": "Ib57wULsH12v"
      },
      "outputs": [],
      "source": [
        "# Creating pipeline model\n",
        "pipe = Pipeline(steps=[\n",
        "    ('imputer', KNNImputer(\n",
        "        n_neighbors=5,\n",
        "        weights='distance',\n",
        "        add_indicator=False)),\n",
        "    \n",
        "    ('scaler', StandardScaler()),\n",
        "    ('regressor', Lasso(max_iter=2000)),\n",
        "])"
      ]
    },
    {
      "cell_type": "code",
      "execution_count": 32,
      "metadata": {
        "id": "bVGdKjY5H6Gf"
      },
      "outputs": [],
      "source": [
        "# now we create the grid with all the parameters that we would like to test\n",
        "\n",
        "param_grid = {\n",
        "    'imputer__n_neighbors': [3,5,10],\n",
        "    'imputer__weights': ['uniform', 'distance'],\n",
        "    'imputer__add_indicator': [True, False],\n",
        "    'regressor__alpha': [10, 100, 200],\n",
        "}\n",
        "\n",
        "grid_search = GridSearchCV(pipe, param_grid, cv=5, n_jobs=-1, scoring='r2')\n",
        "\n",
        "# Where,\n",
        "# cv=3 is the no. of cross-validation\n",
        "# no_jobs =-1 indicates to use all available cpus\n",
        "# scoring='r2' indicates to evaluate using the r squared"
      ]
    },
    {
      "cell_type": "code",
      "execution_count": 33,
      "metadata": {
        "colab": {
          "base_uri": "https://localhost:8080/"
        },
        "id": "ls633i1lIGl9",
        "outputId": "abeed7b4-3ea4-4fc8-9f32-93a34e397287"
      },
      "outputs": [
        {
          "name": "stdout",
          "output_type": "stream",
          "text": [
            "best linear regression from grid search: 0.845\n"
          ]
        }
      ],
      "source": [
        "# and now we train over all the possible combinations \n",
        "# of the parameters above\n",
        "grid_search.fit(X_train, y_train)\n",
        "\n",
        "# lets print the score\n",
        "print((\"best linear regression from grid search: %.3f\"\n",
        "       % grid_search.score(X_train, y_train)))"
      ]
    },
    {
      "cell_type": "code",
      "execution_count": 34,
      "metadata": {
        "colab": {
          "base_uri": "https://localhost:8080/"
        },
        "id": "4A3Jmvo5IL2Y",
        "outputId": "01f2711d-bf19-4538-8466-39400ec29be5"
      },
      "outputs": [
        {
          "name": "stdout",
          "output_type": "stream",
          "text": [
            "best linear regression from grid search: 0.730\n"
          ]
        }
      ],
      "source": [
        "# let's check the performance over the test set\n",
        "print((\"best linear regression from grid search: %.3f\"\n",
        "       % grid_search.score(X_test, y_test)))"
      ]
    },
    {
      "cell_type": "code",
      "execution_count": 35,
      "metadata": {
        "colab": {
          "base_uri": "https://localhost:8080/"
        },
        "id": "xaxFFJMgIQ51",
        "outputId": "0cfe08fc-80dd-47cb-ae9d-c21d8cdd19d4"
      },
      "outputs": [
        {
          "data": {
            "text/plain": [
              "{'imputer__add_indicator': True,\n",
              " 'imputer__n_neighbors': 10,\n",
              " 'imputer__weights': 'distance',\n",
              " 'regressor__alpha': 200}"
            ]
          },
          "execution_count": 35,
          "metadata": {},
          "output_type": "execute_result"
        }
      ],
      "source": [
        "# lets print the best parameters\n",
        "grid_search.best_params_"
      ]
    },
    {
      "cell_type": "markdown",
      "metadata": {
        "id": "MC9g3hhsIYuw"
      },
      "source": [
        "### Compare with univariate imputation\n"
      ]
    },
    {
      "cell_type": "code",
      "execution_count": 36,
      "metadata": {
        "id": "0pHjotHGIWDP"
      },
      "outputs": [],
      "source": [
        "from sklearn.impute import SimpleImputer # univariate imputer"
      ]
    },
    {
      "cell_type": "code",
      "execution_count": 37,
      "metadata": {
        "colab": {
          "base_uri": "https://localhost:8080/"
        },
        "id": "6JL3unJyIcCd",
        "outputId": "d6296987-8dbe-4cbc-b94f-42c5c50ee9c9"
      },
      "outputs": [
        {
          "data": {
            "text/plain": [
              "((1022, 36), (438, 36))"
            ]
          },
          "execution_count": 37,
          "metadata": {},
          "output_type": "execute_result"
        }
      ],
      "source": [
        "# Splitting up train and test set\n",
        "X_train, X_test, y_train, y_test = train_test_split(\n",
        "    ds[cols_to_use],  # just the features\n",
        "    ds['SalePrice'],  # the target\n",
        "    test_size=0.3,  # the percentage of obs in the test set\n",
        "    random_state=0)  # for reproducibility\n",
        "\n",
        "X_train.shape, X_test.shape"
      ]
    },
    {
      "cell_type": "code",
      "execution_count": 38,
      "metadata": {
        "colab": {
          "base_uri": "https://localhost:8080/"
        },
        "id": "NUtInhz6If9a",
        "outputId": "789ab073-bc3f-4b80-a61e-5c6cca8c4728"
      },
      "outputs": [
        {
          "name": "stdout",
          "output_type": "stream",
          "text": [
            "best linear regression from grid search: 0.845\n"
          ]
        }
      ],
      "source": [
        "pipe = Pipeline(steps=[\n",
        "    ('imputer', SimpleImputer(strategy='mean', fill_value=-1)),\n",
        "    ('scaler', StandardScaler()),\n",
        "    ('regressor', Lasso(max_iter=2000)),\n",
        "])\n",
        "\n",
        "param_grid = {\n",
        "    'imputer__strategy': ['mean', 'median', 'constant'],\n",
        "    'imputer__add_indicator': [True, False],\n",
        "    'regressor__alpha': [10, 100, 200],\n",
        "}\n",
        "\n",
        "grid_search = GridSearchCV(pipe, param_grid, cv=5, n_jobs=-1, scoring='r2')\n",
        "\n",
        "# now we train over all the possible combinations of the parameters above\n",
        "grid_search.fit(X_train, y_train)\n",
        "\n",
        "# we print the best score over the train set\n",
        "print((\"best linear regression from grid search: %.3f\"\n",
        "       % grid_search.score(X_train, y_train)))"
      ]
    },
    {
      "cell_type": "code",
      "execution_count": 39,
      "metadata": {
        "colab": {
          "base_uri": "https://localhost:8080/"
        },
        "id": "khZWX-RnIicY",
        "outputId": "c4aca42a-b45e-4b9a-f90e-4754fab94e9a"
      },
      "outputs": [
        {
          "name": "stdout",
          "output_type": "stream",
          "text": [
            "best linear regression from grid search: 0.729\n"
          ]
        }
      ],
      "source": [
        "# let's check the performance over the test set\n",
        "print((\"best linear regression from grid search: %.3f\"\n",
        "       % grid_search.score(X_test, y_test)))"
      ]
    },
    {
      "cell_type": "code",
      "execution_count": 40,
      "metadata": {
        "colab": {
          "base_uri": "https://localhost:8080/"
        },
        "id": "EG2yKK37InZf",
        "outputId": "44b4a3bb-10ce-4859-9ea2-20553de5d087"
      },
      "outputs": [
        {
          "data": {
            "text/plain": [
              "{'imputer__add_indicator': False,\n",
              " 'imputer__strategy': 'constant',\n",
              " 'regressor__alpha': 200}"
            ]
          },
          "execution_count": 40,
          "metadata": {},
          "output_type": "execute_result"
        }
      ],
      "source": [
        "# Let's print the best parameter\n",
        "grid_search.best_params_"
      ]
    },
    {
      "cell_type": "markdown",
      "metadata": {
        "id": "cMteOc-RIuS3"
      },
      "source": [
        "We see that imputing the values with an arbitrary value of -1, returns approximately the same performance as doing KNN imputation, so we might not want to add the additional complexity of training models to impute NA, to then go ahead and predict the real target we are interested in.\n",
        "\n"
      ]
    }
  ],
  "metadata": {
    "colab": {
      "provenance": []
    },
    "kernelspec": {
      "display_name": "Python 3.10.6 64-bit",
      "language": "python",
      "name": "python3"
    },
    "language_info": {
      "name": "python",
      "version": "3.10.6"
    },
    "vscode": {
      "interpreter": {
        "hash": "7e1998ff7f8aa20ada591c520b972326324e5ea05489af9e422744c7c09f6dad"
      }
    }
  },
  "nbformat": 4,
  "nbformat_minor": 0
}
