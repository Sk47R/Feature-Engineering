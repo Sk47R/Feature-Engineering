{
  "nbformat": 4,
  "nbformat_minor": 0,
  "metadata": {
    "colab": {
      "provenance": []
    },
    "kernelspec": {
      "name": "python3",
      "display_name": "Python 3"
    },
    "language_info": {
      "name": "python"
    }
  },
  "cells": [
    {
      "cell_type": "code",
      "source": [
        "import pandas as pd\n",
        "import numpy as np\n",
        "import matplotlib.pyplot as plt\n",
        "from sklearn.model_selection import train_test_split\n",
        "\n",
        "from feature_engine.encoding import CountFrequencyEncoder"
      ],
      "metadata": {
        "id": "H3lM3WhjyMUW"
      },
      "execution_count": 68,
      "outputs": []
    },
    {
      "cell_type": "code",
      "source": [
        "ds = pd.read_csv(\"train.csv\",usecols=['Neighborhood', 'Exterior1st', 'Exterior2nd', 'SalePrice'])"
      ],
      "metadata": {
        "id": "x0McKIOJedMW"
      },
      "execution_count": 51,
      "outputs": []
    },
    {
      "cell_type": "code",
      "source": [
        "ds.head()"
      ],
      "metadata": {
        "colab": {
          "base_uri": "https://localhost:8080/",
          "height": 206
        },
        "id": "us4JK-JLek1s",
        "outputId": "aa2c8079-b1ff-445b-ae3d-e466d73841e5"
      },
      "execution_count": 52,
      "outputs": [
        {
          "output_type": "execute_result",
          "data": {
            "text/plain": [
              "  Neighborhood Exterior1st Exterior2nd  SalePrice\n",
              "0      CollgCr     VinylSd     VinylSd     208500\n",
              "1      Veenker     MetalSd     MetalSd     181500\n",
              "2      CollgCr     VinylSd     VinylSd     223500\n",
              "3      Crawfor     Wd Sdng     Wd Shng     140000\n",
              "4      NoRidge     VinylSd     VinylSd     250000"
            ],
            "text/html": [
              "\n",
              "  <div id=\"df-e51a1f91-c54a-4fcc-b5ef-d6be8e901389\">\n",
              "    <div class=\"colab-df-container\">\n",
              "      <div>\n",
              "<style scoped>\n",
              "    .dataframe tbody tr th:only-of-type {\n",
              "        vertical-align: middle;\n",
              "    }\n",
              "\n",
              "    .dataframe tbody tr th {\n",
              "        vertical-align: top;\n",
              "    }\n",
              "\n",
              "    .dataframe thead th {\n",
              "        text-align: right;\n",
              "    }\n",
              "</style>\n",
              "<table border=\"1\" class=\"dataframe\">\n",
              "  <thead>\n",
              "    <tr style=\"text-align: right;\">\n",
              "      <th></th>\n",
              "      <th>Neighborhood</th>\n",
              "      <th>Exterior1st</th>\n",
              "      <th>Exterior2nd</th>\n",
              "      <th>SalePrice</th>\n",
              "    </tr>\n",
              "  </thead>\n",
              "  <tbody>\n",
              "    <tr>\n",
              "      <th>0</th>\n",
              "      <td>CollgCr</td>\n",
              "      <td>VinylSd</td>\n",
              "      <td>VinylSd</td>\n",
              "      <td>208500</td>\n",
              "    </tr>\n",
              "    <tr>\n",
              "      <th>1</th>\n",
              "      <td>Veenker</td>\n",
              "      <td>MetalSd</td>\n",
              "      <td>MetalSd</td>\n",
              "      <td>181500</td>\n",
              "    </tr>\n",
              "    <tr>\n",
              "      <th>2</th>\n",
              "      <td>CollgCr</td>\n",
              "      <td>VinylSd</td>\n",
              "      <td>VinylSd</td>\n",
              "      <td>223500</td>\n",
              "    </tr>\n",
              "    <tr>\n",
              "      <th>3</th>\n",
              "      <td>Crawfor</td>\n",
              "      <td>Wd Sdng</td>\n",
              "      <td>Wd Shng</td>\n",
              "      <td>140000</td>\n",
              "    </tr>\n",
              "    <tr>\n",
              "      <th>4</th>\n",
              "      <td>NoRidge</td>\n",
              "      <td>VinylSd</td>\n",
              "      <td>VinylSd</td>\n",
              "      <td>250000</td>\n",
              "    </tr>\n",
              "  </tbody>\n",
              "</table>\n",
              "</div>\n",
              "      <button class=\"colab-df-convert\" onclick=\"convertToInteractive('df-e51a1f91-c54a-4fcc-b5ef-d6be8e901389')\"\n",
              "              title=\"Convert this dataframe to an interactive table.\"\n",
              "              style=\"display:none;\">\n",
              "        \n",
              "  <svg xmlns=\"http://www.w3.org/2000/svg\" height=\"24px\"viewBox=\"0 0 24 24\"\n",
              "       width=\"24px\">\n",
              "    <path d=\"M0 0h24v24H0V0z\" fill=\"none\"/>\n",
              "    <path d=\"M18.56 5.44l.94 2.06.94-2.06 2.06-.94-2.06-.94-.94-2.06-.94 2.06-2.06.94zm-11 1L8.5 8.5l.94-2.06 2.06-.94-2.06-.94L8.5 2.5l-.94 2.06-2.06.94zm10 10l.94 2.06.94-2.06 2.06-.94-2.06-.94-.94-2.06-.94 2.06-2.06.94z\"/><path d=\"M17.41 7.96l-1.37-1.37c-.4-.4-.92-.59-1.43-.59-.52 0-1.04.2-1.43.59L10.3 9.45l-7.72 7.72c-.78.78-.78 2.05 0 2.83L4 21.41c.39.39.9.59 1.41.59.51 0 1.02-.2 1.41-.59l7.78-7.78 2.81-2.81c.8-.78.8-2.07 0-2.86zM5.41 20L4 18.59l7.72-7.72 1.47 1.35L5.41 20z\"/>\n",
              "  </svg>\n",
              "      </button>\n",
              "      \n",
              "  <style>\n",
              "    .colab-df-container {\n",
              "      display:flex;\n",
              "      flex-wrap:wrap;\n",
              "      gap: 12px;\n",
              "    }\n",
              "\n",
              "    .colab-df-convert {\n",
              "      background-color: #E8F0FE;\n",
              "      border: none;\n",
              "      border-radius: 50%;\n",
              "      cursor: pointer;\n",
              "      display: none;\n",
              "      fill: #1967D2;\n",
              "      height: 32px;\n",
              "      padding: 0 0 0 0;\n",
              "      width: 32px;\n",
              "    }\n",
              "\n",
              "    .colab-df-convert:hover {\n",
              "      background-color: #E2EBFA;\n",
              "      box-shadow: 0px 1px 2px rgba(60, 64, 67, 0.3), 0px 1px 3px 1px rgba(60, 64, 67, 0.15);\n",
              "      fill: #174EA6;\n",
              "    }\n",
              "\n",
              "    [theme=dark] .colab-df-convert {\n",
              "      background-color: #3B4455;\n",
              "      fill: #D2E3FC;\n",
              "    }\n",
              "\n",
              "    [theme=dark] .colab-df-convert:hover {\n",
              "      background-color: #434B5C;\n",
              "      box-shadow: 0px 1px 3px 1px rgba(0, 0, 0, 0.15);\n",
              "      filter: drop-shadow(0px 1px 2px rgba(0, 0, 0, 0.3));\n",
              "      fill: #FFFFFF;\n",
              "    }\n",
              "  </style>\n",
              "\n",
              "      <script>\n",
              "        const buttonEl =\n",
              "          document.querySelector('#df-e51a1f91-c54a-4fcc-b5ef-d6be8e901389 button.colab-df-convert');\n",
              "        buttonEl.style.display =\n",
              "          google.colab.kernel.accessAllowed ? 'block' : 'none';\n",
              "\n",
              "        async function convertToInteractive(key) {\n",
              "          const element = document.querySelector('#df-e51a1f91-c54a-4fcc-b5ef-d6be8e901389');\n",
              "          const dataTable =\n",
              "            await google.colab.kernel.invokeFunction('convertToInteractive',\n",
              "                                                     [key], {});\n",
              "          if (!dataTable) return;\n",
              "\n",
              "          const docLinkHtml = 'Like what you see? Visit the ' +\n",
              "            '<a target=\"_blank\" href=https://colab.research.google.com/notebooks/data_table.ipynb>data table notebook</a>'\n",
              "            + ' to learn more about interactive tables.';\n",
              "          element.innerHTML = '';\n",
              "          dataTable['output_type'] = 'display_data';\n",
              "          await google.colab.output.renderOutput(dataTable, element);\n",
              "          const docLink = document.createElement('div');\n",
              "          docLink.innerHTML = docLinkHtml;\n",
              "          element.appendChild(docLink);\n",
              "        }\n",
              "      </script>\n",
              "    </div>\n",
              "  </div>\n",
              "  "
            ]
          },
          "metadata": {},
          "execution_count": 52
        }
      ]
    },
    {
      "cell_type": "code",
      "source": [
        "# Lets have a look at number of unique categories for each feature\n",
        "for column in ds.columns:\n",
        "  print(f\"column {column} has {len(ds[column].unique())} unique categories\")"
      ],
      "metadata": {
        "colab": {
          "base_uri": "https://localhost:8080/"
        },
        "id": "hBQ2INLrenr0",
        "outputId": "3f37fda9-fa8f-4b5a-d7e6-1dc31354be55"
      },
      "execution_count": 53,
      "outputs": [
        {
          "output_type": "stream",
          "name": "stdout",
          "text": [
            "column Neighborhood has 25 unique categories\n",
            "column Exterior1st has 15 unique categories\n",
            "column Exterior2nd has 16 unique categories\n",
            "column SalePrice has 663 unique categories\n"
          ]
        }
      ]
    },
    {
      "cell_type": "code",
      "source": [
        "# let's have a look at unique labels\n",
        "ds['Neighborhood'].unique()"
      ],
      "metadata": {
        "colab": {
          "base_uri": "https://localhost:8080/"
        },
        "id": "YiikM6w1vFt2",
        "outputId": "5c682b90-d34f-4152-d6cc-67ada2f0bb69"
      },
      "execution_count": 54,
      "outputs": [
        {
          "output_type": "execute_result",
          "data": {
            "text/plain": [
              "array(['CollgCr', 'Veenker', 'Crawfor', 'NoRidge', 'Mitchel', 'Somerst',\n",
              "       'NWAmes', 'OldTown', 'BrkSide', 'Sawyer', 'NridgHt', 'NAmes',\n",
              "       'SawyerW', 'IDOTRR', 'MeadowV', 'Edwards', 'Timber', 'Gilbert',\n",
              "       'StoneBr', 'ClearCr', 'NPkVill', 'Blmngtn', 'BrDale', 'SWISU',\n",
              "       'Blueste'], dtype=object)"
            ]
          },
          "metadata": {},
          "execution_count": 54
        }
      ]
    },
    {
      "cell_type": "code",
      "source": [
        "ds['Exterior1st'].unique()"
      ],
      "metadata": {
        "colab": {
          "base_uri": "https://localhost:8080/"
        },
        "id": "mTaSYJ08vJE-",
        "outputId": "3d8434d6-691c-4b46-9674-85c183de0200"
      },
      "execution_count": 55,
      "outputs": [
        {
          "output_type": "execute_result",
          "data": {
            "text/plain": [
              "array(['VinylSd', 'MetalSd', 'Wd Sdng', 'HdBoard', 'BrkFace', 'WdShing',\n",
              "       'CemntBd', 'Plywood', 'AsbShng', 'Stucco', 'BrkComm', 'AsphShn',\n",
              "       'Stone', 'ImStucc', 'CBlock'], dtype=object)"
            ]
          },
          "metadata": {},
          "execution_count": 55
        }
      ]
    },
    {
      "cell_type": "code",
      "source": [
        "ds['Exterior2nd'].unique()"
      ],
      "metadata": {
        "colab": {
          "base_uri": "https://localhost:8080/"
        },
        "id": "3mn8Ws6ZvKmY",
        "outputId": "c7f6ba80-038f-491f-980e-bdd20f1c722d"
      },
      "execution_count": 56,
      "outputs": [
        {
          "output_type": "execute_result",
          "data": {
            "text/plain": [
              "array(['VinylSd', 'MetalSd', 'Wd Shng', 'HdBoard', 'Plywood', 'Wd Sdng',\n",
              "       'CmentBd', 'BrkFace', 'Stucco', 'AsbShng', 'Brk Cmn', 'ImStucc',\n",
              "       'AsphShn', 'Stone', 'Other', 'CBlock'], dtype=object)"
            ]
          },
          "metadata": {},
          "execution_count": 56
        }
      ]
    },
    {
      "cell_type": "markdown",
      "source": [
        "### Note\n",
        "We select which digit to assign each category using the train set, and then use those mappings in the test set.\n",
        "\n",
        "Note that to do this technique with pandas, we need to keep the target within the training set"
      ],
      "metadata": {
        "id": "NN9d6izcvOeZ"
      }
    },
    {
      "cell_type": "code",
      "source": [
        "# Splitting the test and train set\n",
        "X_train, X_test, y_train, y_test = train_test_split(\n",
        "    ds[['Neighborhood', 'Exterior1st', 'Exterior2nd', 'SalePrice']],  # this time we keep the target!!\n",
        "    ds['SalePrice'],  # target\n",
        "    test_size=0.3,  # percentage of obs in test set\n",
        "    random_state=0)  # seed to ensure reproducibility\n",
        "\n",
        "# see the shape of train and test set\n",
        "X_train.shape, X_test.shape"
      ],
      "metadata": {
        "colab": {
          "base_uri": "https://localhost:8080/"
        },
        "id": "VFcKBajkvMc3",
        "outputId": "226b6558-8c4d-4fbd-e24f-ebbb0f7ac070"
      },
      "execution_count": 57,
      "outputs": [
        {
          "output_type": "execute_result",
          "data": {
            "text/plain": [
              "((1022, 4), (438, 4))"
            ]
          },
          "metadata": {},
          "execution_count": 57
        }
      ]
    },
    {
      "cell_type": "code",
      "source": [
        "# let's plot the relationship of the categories with the target\n",
        "\n",
        "for var in ['Neighborhood', 'Exterior1st', 'Exterior2nd']:\n",
        "    fig = plt.figure()\n",
        "    fig = X_train.groupby([var])['SalePrice'].mean().plot()\n",
        "    fig.set_title('Relationship between {} and SalePrice'.format(var))\n",
        "    fig.set_ylabel('Mean SalePrice')\n",
        "    plt.show()"
      ],
      "metadata": {
        "colab": {
          "base_uri": "https://localhost:8080/",
          "height": 851
        },
        "id": "z7QqkahomGCZ",
        "outputId": "9df2c349-4646-4697-d1e2-96876ba9cc2a"
      },
      "execution_count": 58,
      "outputs": [
        {
          "output_type": "display_data",
          "data": {
            "text/plain": [
              "<Figure size 432x288 with 1 Axes>"
            ],
            "image/png": "[encoded data removed]"
          },
          "metadata": {
            "needs_background": "light"
          }
        },
        {
          "output_type": "display_data",
          "data": {
            "text/plain": [
              "<Figure size 432x288 with 1 Axes>"
            ],
            "image/png": "[encoded data removed]"
          },
          "metadata": {
            "needs_background": "light"
          }
        },
        {
          "output_type": "display_data",
          "data": {
            "text/plain": [
              "<Figure size 432x288 with 1 Axes>"
            ],
            "image/png": "[encoded data removed]"
          },
          "metadata": {
            "needs_background": "light"
          }
        }
      ]
    },
    {
      "cell_type": "markdown",
      "source": [
        "We can see that the relationship between the target and the categories of the categorical variables goes up and down, depending on the category.\n",
        "\n"
      ],
      "metadata": {
        "id": "iBzsTTpxvtE1"
      }
    },
    {
      "cell_type": "code",
      "source": [
        "# let's order the labels in ascending order according to the mean target value\n",
        "\n",
        "X_train.groupby(['Neighborhood'])['SalePrice'].mean().sort_values()"
      ],
      "metadata": {
        "id": "oYxXYULnfpM7",
        "colab": {
          "base_uri": "https://localhost:8080/"
        },
        "outputId": "038ce56d-6c18-4726-9fdc-00a9252f19ad"
      },
      "execution_count": 59,
      "outputs": [
        {
          "output_type": "execute_result",
          "data": {
            "text/plain": [
              "Neighborhood\n",
              "IDOTRR      92174.166667\n",
              "BrDale      99440.000000\n",
              "MeadowV    104441.666667\n",
              "Edwards    125082.676056\n",
              "BrkSide    125438.414634\n",
              "OldTown    130958.328767\n",
              "Sawyer     136596.442623\n",
              "Blueste    137500.000000\n",
              "SWISU      139154.666667\n",
              "NPkVill    140107.142857\n",
              "NAmes      146435.264901\n",
              "Mitchel    153070.444444\n",
              "SawyerW    179463.088889\n",
              "Gilbert    192662.290909\n",
              "NWAmes     192788.235294\n",
              "Blmngtn    198164.500000\n",
              "CollgCr    203086.371429\n",
              "ClearCr    210034.666667\n",
              "Crawfor    217453.914286\n",
              "Somerst    226644.196429\n",
              "Veenker    229500.000000\n",
              "Timber     238700.100000\n",
              "NridgHt    307418.137255\n",
              "StoneBr    309105.937500\n",
              "NoRidge    336264.666667\n",
              "Name: SalePrice, dtype: float64"
            ]
          },
          "metadata": {},
          "execution_count": 59
        }
      ]
    },
    {
      "cell_type": "markdown",
      "source": [
        "Now, we will replace those categories, ordered as they are, by the numbers 0 to k, where k is the number of different categories minus 1, in this case 25 - 1 = 24.\n",
        "\n",
        "So IDOTRR will be replaced by 0 and NoRidge by 24, just to be clear."
      ],
      "metadata": {
        "id": "3YM2OSgCwOfg"
      }
    },
    {
      "cell_type": "code",
      "source": [
        "# Lets generate ordered list of labels\n",
        "ordered_labels = X_train.groupby(['Neighborhood'\n",
        "                                  ])['SalePrice'].mean().sort_values().index\n",
        "\n",
        "ordered_labels"
      ],
      "metadata": {
        "colab": {
          "base_uri": "https://localhost:8080/"
        },
        "id": "R1L8vVu1fwh7",
        "outputId": "11fb8f1a-3b59-46ee-9988-d90046fe25c4"
      },
      "execution_count": 60,
      "outputs": [
        {
          "output_type": "execute_result",
          "data": {
            "text/plain": [
              "Index(['IDOTRR', 'BrDale', 'MeadowV', 'Edwards', 'BrkSide', 'OldTown',\n",
              "       'Sawyer', 'Blueste', 'SWISU', 'NPkVill', 'NAmes', 'Mitchel', 'SawyerW',\n",
              "       'Gilbert', 'NWAmes', 'Blmngtn', 'CollgCr', 'ClearCr', 'Crawfor',\n",
              "       'Somerst', 'Veenker', 'Timber', 'NridgHt', 'StoneBr', 'NoRidge'],\n",
              "      dtype='object', name='Neighborhood')"
            ]
          },
          "metadata": {},
          "execution_count": 60
        }
      ]
    },
    {
      "cell_type": "code",
      "source": [
        "# let's create a dictionary with the mappings of categories to numbers\n",
        "ordinal_mapping = {k: i for i, k in enumerate(ordered_labels, 0)}\n",
        "\n",
        "# check the mapping\n",
        "ordinal_mapping"
      ],
      "metadata": {
        "colab": {
          "base_uri": "https://localhost:8080/"
        },
        "id": "mxN7SAh_whH5",
        "outputId": "eb86a9ff-9631-4b44-8797-7954f4ac63b9"
      },
      "execution_count": 61,
      "outputs": [
        {
          "output_type": "execute_result",
          "data": {
            "text/plain": [
              "{'IDOTRR': 0,\n",
              " 'BrDale': 1,\n",
              " 'MeadowV': 2,\n",
              " 'Edwards': 3,\n",
              " 'BrkSide': 4,\n",
              " 'OldTown': 5,\n",
              " 'Sawyer': 6,\n",
              " 'Blueste': 7,\n",
              " 'SWISU': 8,\n",
              " 'NPkVill': 9,\n",
              " 'NAmes': 10,\n",
              " 'Mitchel': 11,\n",
              " 'SawyerW': 12,\n",
              " 'Gilbert': 13,\n",
              " 'NWAmes': 14,\n",
              " 'Blmngtn': 15,\n",
              " 'CollgCr': 16,\n",
              " 'ClearCr': 17,\n",
              " 'Crawfor': 18,\n",
              " 'Somerst': 19,\n",
              " 'Veenker': 20,\n",
              " 'Timber': 21,\n",
              " 'NridgHt': 22,\n",
              " 'StoneBr': 23,\n",
              " 'NoRidge': 24}"
            ]
          },
          "metadata": {},
          "execution_count": 61
        }
      ]
    },
    {
      "cell_type": "code",
      "source": [
        "# now, we replace the labels with the integers\n",
        "\n",
        "X_train['Neighborhood'] = X_train['Neighborhood'].map(ordinal_mapping)\n",
        "X_test['Neighborhood'] = X_test['Neighborhood'].map(ordinal_mapping)"
      ],
      "metadata": {
        "id": "HuNw8Y0hwqlU"
      },
      "execution_count": 62,
      "outputs": []
    },
    {
      "cell_type": "code",
      "source": [
        "# lets create functions so that we can perform the encoding for all the features\n",
        "def func_find_category_mappings(ds, col_name, target):\n",
        "    # first  we generate an ordered list with the labels\n",
        "    ordered_labels = ds.groupby([col_name\n",
        "                                 ])[target].mean().sort_values().index\n",
        "\n",
        "    # return the dictionary with mappings\n",
        "    return {k: i for i, k in enumerate(ordered_labels, 0)}\n",
        "\n",
        "\n",
        "\n",
        "def func_integer_encode(trainset, testset, col_name, ordinal_mapping):\n",
        "    trainset[col_name] = trainset[col_name].map(ordinal_mapping)\n",
        "    testset[col_name] = testset[col_name].map(ordinal_mapping)"
      ],
      "metadata": {
        "id": "mfsnR-kpwtaB"
      },
      "execution_count": 63,
      "outputs": []
    },
    {
      "cell_type": "code",
      "source": [
        "# Now we loop over the categorical features and then encode them\n",
        "\n",
        "for col_name in ['Exterior1st', 'Exterior2nd']:\n",
        "    mappings = func_find_category_mappings(X_train, col_name, 'SalePrice')\n",
        "    func_integer_encode(X_train, X_test, col_name, mappings)"
      ],
      "metadata": {
        "id": "gDNwQoK3xFZ8"
      },
      "execution_count": 64,
      "outputs": []
    },
    {
      "cell_type": "code",
      "source": [
        "# let's see the result\n",
        "\n",
        "X_train.head()"
      ],
      "metadata": {
        "colab": {
          "base_uri": "https://localhost:8080/",
          "height": 206
        },
        "id": "nt8ITBo6xUWc",
        "outputId": "e1ad11ca-87cb-4cf5-e058-42e1f8c67484"
      },
      "execution_count": 65,
      "outputs": [
        {
          "output_type": "execute_result",
          "data": {
            "text/plain": [
              "      Neighborhood  Exterior1st  Exterior2nd  SalePrice\n",
              "64              16           11           13     219500\n",
              "682             17            5            7     173000\n",
              "960              4            5            8     116500\n",
              "1384             3            4            4     105000\n",
              "1100             8            5            7      60000"
            ],
            "text/html": [
              "\n",
              "  <div id=\"df-8c022d17-c8f3-4796-b8e6-ab8c2678fcad\">\n",
              "    <div class=\"colab-df-container\">\n",
              "      <div>\n",
              "<style scoped>\n",
              "    .dataframe tbody tr th:only-of-type {\n",
              "        vertical-align: middle;\n",
              "    }\n",
              "\n",
              "    .dataframe tbody tr th {\n",
              "        vertical-align: top;\n",
              "    }\n",
              "\n",
              "    .dataframe thead th {\n",
              "        text-align: right;\n",
              "    }\n",
              "</style>\n",
              "<table border=\"1\" class=\"dataframe\">\n",
              "  <thead>\n",
              "    <tr style=\"text-align: right;\">\n",
              "      <th></th>\n",
              "      <th>Neighborhood</th>\n",
              "      <th>Exterior1st</th>\n",
              "      <th>Exterior2nd</th>\n",
              "      <th>SalePrice</th>\n",
              "    </tr>\n",
              "  </thead>\n",
              "  <tbody>\n",
              "    <tr>\n",
              "      <th>64</th>\n",
              "      <td>16</td>\n",
              "      <td>11</td>\n",
              "      <td>13</td>\n",
              "      <td>219500</td>\n",
              "    </tr>\n",
              "    <tr>\n",
              "      <th>682</th>\n",
              "      <td>17</td>\n",
              "      <td>5</td>\n",
              "      <td>7</td>\n",
              "      <td>173000</td>\n",
              "    </tr>\n",
              "    <tr>\n",
              "      <th>960</th>\n",
              "      <td>4</td>\n",
              "      <td>5</td>\n",
              "      <td>8</td>\n",
              "      <td>116500</td>\n",
              "    </tr>\n",
              "    <tr>\n",
              "      <th>1384</th>\n",
              "      <td>3</td>\n",
              "      <td>4</td>\n",
              "      <td>4</td>\n",
              "      <td>105000</td>\n",
              "    </tr>\n",
              "    <tr>\n",
              "      <th>1100</th>\n",
              "      <td>8</td>\n",
              "      <td>5</td>\n",
              "      <td>7</td>\n",
              "      <td>60000</td>\n",
              "    </tr>\n",
              "  </tbody>\n",
              "</table>\n",
              "</div>\n",
              "      <button class=\"colab-df-convert\" onclick=\"convertToInteractive('df-8c022d17-c8f3-4796-b8e6-ab8c2678fcad')\"\n",
              "              title=\"Convert this dataframe to an interactive table.\"\n",
              "              style=\"display:none;\">\n",
              "        \n",
              "  <svg xmlns=\"http://www.w3.org/2000/svg\" height=\"24px\"viewBox=\"0 0 24 24\"\n",
              "       width=\"24px\">\n",
              "    <path d=\"M0 0h24v24H0V0z\" fill=\"none\"/>\n",
              "    <path d=\"M18.56 5.44l.94 2.06.94-2.06 2.06-.94-2.06-.94-.94-2.06-.94 2.06-2.06.94zm-11 1L8.5 8.5l.94-2.06 2.06-.94-2.06-.94L8.5 2.5l-.94 2.06-2.06.94zm10 10l.94 2.06.94-2.06 2.06-.94-2.06-.94-.94-2.06-.94 2.06-2.06.94z\"/><path d=\"M17.41 7.96l-1.37-1.37c-.4-.4-.92-.59-1.43-.59-.52 0-1.04.2-1.43.59L10.3 9.45l-7.72 7.72c-.78.78-.78 2.05 0 2.83L4 21.41c.39.39.9.59 1.41.59.51 0 1.02-.2 1.41-.59l7.78-7.78 2.81-2.81c.8-.78.8-2.07 0-2.86zM5.41 20L4 18.59l7.72-7.72 1.47 1.35L5.41 20z\"/>\n",
              "  </svg>\n",
              "      </button>\n",
              "      \n",
              "  <style>\n",
              "    .colab-df-container {\n",
              "      display:flex;\n",
              "      flex-wrap:wrap;\n",
              "      gap: 12px;\n",
              "    }\n",
              "\n",
              "    .colab-df-convert {\n",
              "      background-color: #E8F0FE;\n",
              "      border: none;\n",
              "      border-radius: 50%;\n",
              "      cursor: pointer;\n",
              "      display: none;\n",
              "      fill: #1967D2;\n",
              "      height: 32px;\n",
              "      padding: 0 0 0 0;\n",
              "      width: 32px;\n",
              "    }\n",
              "\n",
              "    .colab-df-convert:hover {\n",
              "      background-color: #E2EBFA;\n",
              "      box-shadow: 0px 1px 2px rgba(60, 64, 67, 0.3), 0px 1px 3px 1px rgba(60, 64, 67, 0.15);\n",
              "      fill: #174EA6;\n",
              "    }\n",
              "\n",
              "    [theme=dark] .colab-df-convert {\n",
              "      background-color: #3B4455;\n",
              "      fill: #D2E3FC;\n",
              "    }\n",
              "\n",
              "    [theme=dark] .colab-df-convert:hover {\n",
              "      background-color: #434B5C;\n",
              "      box-shadow: 0px 1px 3px 1px rgba(0, 0, 0, 0.15);\n",
              "      filter: drop-shadow(0px 1px 2px rgba(0, 0, 0, 0.3));\n",
              "      fill: #FFFFFF;\n",
              "    }\n",
              "  </style>\n",
              "\n",
              "      <script>\n",
              "        const buttonEl =\n",
              "          document.querySelector('#df-8c022d17-c8f3-4796-b8e6-ab8c2678fcad button.colab-df-convert');\n",
              "        buttonEl.style.display =\n",
              "          google.colab.kernel.accessAllowed ? 'block' : 'none';\n",
              "\n",
              "        async function convertToInteractive(key) {\n",
              "          const element = document.querySelector('#df-8c022d17-c8f3-4796-b8e6-ab8c2678fcad');\n",
              "          const dataTable =\n",
              "            await google.colab.kernel.invokeFunction('convertToInteractive',\n",
              "                                                     [key], {});\n",
              "          if (!dataTable) return;\n",
              "\n",
              "          const docLinkHtml = 'Like what you see? Visit the ' +\n",
              "            '<a target=\"_blank\" href=https://colab.research.google.com/notebooks/data_table.ipynb>data table notebook</a>'\n",
              "            + ' to learn more about interactive tables.';\n",
              "          element.innerHTML = '';\n",
              "          dataTable['output_type'] = 'display_data';\n",
              "          await google.colab.output.renderOutput(dataTable, element);\n",
              "          const docLink = document.createElement('div');\n",
              "          docLink.innerHTML = docLinkHtml;\n",
              "          element.appendChild(docLink);\n",
              "        }\n",
              "      </script>\n",
              "    </div>\n",
              "  </div>\n",
              "  "
            ]
          },
          "metadata": {},
          "execution_count": 65
        }
      ]
    },
    {
      "cell_type": "code",
      "source": [
        "# let's compare the newly created monotonic relationship\n",
        "# between the variables and the target\n",
        "\n",
        "for var in ['Neighborhood', 'Exterior1st', 'Exterior2nd']:\n",
        "    fig = plt.figure()\n",
        "    fig = X_train.groupby([var])['SalePrice'].mean().plot()\n",
        "    fig.set_title('Monotonic relationship between {} and SalePrice'.format(var))\n",
        "    fig.set_ylabel('Mean SalePrice')\n",
        "    plt.show()"
      ],
      "metadata": {
        "colab": {
          "base_uri": "https://localhost:8080/",
          "height": 851
        },
        "id": "PYB9FD_vxu9F",
        "outputId": "591ec011-e37d-402c-a4a1-50afd602517a"
      },
      "execution_count": 66,
      "outputs": [
        {
          "output_type": "display_data",
          "data": {
            "text/plain": [
              "<Figure size 432x288 with 1 Axes>"
            ],
            "image/png": "[encoded data removed]"
          },
          "metadata": {
            "needs_background": "light"
          }
        },
        {
          "output_type": "display_data",
          "data": {
            "text/plain": [
              "<Figure size 432x288 with 1 Axes>"
            ],
            "image/png": "[encoded data removed]"
          },
          "metadata": {
            "needs_background": "light"
          }
        },
        {
          "output_type": "display_data",
          "data": {
            "text/plain": [
              "<Figure size 432x288 with 1 Axes>"
            ],
            "image/png": "[encoded data removed]"
          },
          "metadata": {
            "needs_background": "light"
          }
        }
      ]
    },
    {
      "cell_type": "markdown",
      "source": [
        "We see from the plots above that the relationship between the categories and the target is now monotonic, and for the first 2 variables, almost linear, which helps improve linear models performance.\n",
        "\n",
        "### Note\n",
        "Monotonic does not mean strictly linear. Monotonic means that it increases constantly, or it decreases constantly.\n",
        "\n",
        "Replacing categorical labels with this code and method will generate missing values for categories present in the test set that were not seen in the training set. Therefore it is extremely important to handle rare labels before-hand. \n"
      ],
      "metadata": {
        "id": "7hzdpDvwx3wn"
      }
    },
    {
      "cell_type": "markdown",
      "source": [
        "### Advantages\n",
        "- quick\n",
        "- returns pandas dataframe\n",
        "### Limitations of pandas:\n",
        "- it does not preserve information from train data to propagate to test data\n",
        "- We need to store the encoding maps separately if planing to use them in production."
      ],
      "metadata": {
        "id": "ssfbwqpnyhQa"
      }
    },
    {
      "cell_type": "code",
      "source": [],
      "metadata": {
        "id": "Ay-dGn6NyqGx"
      },
      "execution_count": null,
      "outputs": []
    }
  ]
}