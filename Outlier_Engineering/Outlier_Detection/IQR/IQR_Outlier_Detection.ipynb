{
  "nbformat": 4,
  "nbformat_minor": 0,
  "metadata": {
    "colab": {
      "provenance": []
    },
    "kernelspec": {
      "name": "python3",
      "display_name": "Python 3"
    },
    "language_info": {
      "name": "python"
    }
  },
  "cells": [
    {
      "cell_type": "code",
      "execution_count": 1,
      "metadata": {
        "id": "JRMxenGhPYZr"
      },
      "outputs": [],
      "source": [
        "import numpy as np"
      ]
    },
    {
      "cell_type": "code",
      "source": [
        "# Consider the following data as the dataset\n",
        "dataset= [11,10,12,14,12,15,14,13,15,102,12,14,17,19,107, 10,13,12,14,12,108,12,11,14,13,15,10,15,12,10,14,13,15,10]"
      ],
      "metadata": {
        "id": "Yc8NH05iPt6y"
      },
      "execution_count": 2,
      "outputs": []
    },
    {
      "cell_type": "code",
      "source": [
        "outliers = []\n",
        "normal_data =[]\n",
        "def detect_outliers(data):\n",
        "    data = sorted(data) # sorting the data\n",
        "    q1 = np.percentile(data, 25) # 25 percentile using numpy\n",
        "    q3 = np.percentile(data, 75) # 75 percentile using numpy\n",
        "    IQR = q3-q1 \n",
        "    lower_bound_value = q1 - (1.5*IQR)\n",
        "    upper_bound_value = q3 + (1.5*IQR)\n",
        "    # all datapoints that falls between the lower and upper bound are normal \n",
        "    # datapoints\n",
        "    for i in data: \n",
        "        if (i<lower_bound_value or i>upper_bound_value):\n",
        "          outliers.append(i)\n",
        "        else:\n",
        "          normal_data.append(i)\n",
        "    return outliers, normal_data, lower_bound_value, upper_bound_value"
      ],
      "metadata": {
        "id": "UuBxNETJPgjP"
      },
      "execution_count": 11,
      "outputs": []
    },
    {
      "cell_type": "code",
      "source": [
        "outlier_pt, normal_pt, lower_bound, upper_bound=detect_outliers(dataset)"
      ],
      "metadata": {
        "id": "7UWvGuG1Pj6n"
      },
      "execution_count": 12,
      "outputs": []
    },
    {
      "cell_type": "code",
      "source": [
        "# lets print the results\n",
        "print(\"The lower bound value is: \", lower_bound)\n",
        "print(\"The upper bound value is: \", upper_bound)\n",
        "print(\"The outlier points are: \", outlier_pt)\n",
        "print(\"The normal points are: \", normal_pt)"
      ],
      "metadata": {
        "colab": {
          "base_uri": "https://localhost:8080/"
        },
        "id": "c58E6PSxP1oc",
        "outputId": "d40d43fd-f0eb-42cc-f0fc-623a1ef3e043"
      },
      "execution_count": 14,
      "outputs": [
        {
          "output_type": "stream",
          "name": "stdout",
          "text": [
            "The lower bound value is:  7.5\n",
            "The upper bound value is:  19.5\n",
            "The outlier points are:  [102, 107, 108]\n",
            "The normal points are:  [10, 10, 10, 10, 10, 11, 11, 12, 12, 12, 12, 12, 12, 12, 13, 13, 13, 13, 14, 14, 14, 14, 14, 14, 15, 15, 15, 15, 15, 17, 19]\n"
          ]
        }
      ]
    }
  ]
}