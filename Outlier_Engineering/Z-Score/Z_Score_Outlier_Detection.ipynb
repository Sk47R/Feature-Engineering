{
  "nbformat": 4,
  "nbformat_minor": 0,
  "metadata": {
    "colab": {
      "provenance": []
    },
    "kernelspec": {
      "name": "python3",
      "display_name": "Python 3"
    },
    "language_info": {
      "name": "python"
    }
  },
  "cells": [
    {
      "cell_type": "code",
      "execution_count": 4,
      "metadata": {
        "id": "JRMxenGhPYZr"
      },
      "outputs": [],
      "source": [
        "import numpy as np"
      ]
    },
    {
      "cell_type": "code",
      "source": [
        "# Consider the following data as the dataset\n",
        "dataset= [11,10,12,14,12,15,14,13,15,102,12,14,17,19,107, 10,13,12,14,12,108,12,11,14,13,15,10,15,12,10,14,13,15,10]"
      ],
      "metadata": {
        "id": "Yc8NH05iPt6y"
      },
      "execution_count": 5,
      "outputs": []
    },
    {
      "cell_type": "code",
      "source": [
        "outliers=[]\n",
        "normal_data =[]\n",
        "def detect_outliers(data):\n",
        "    threshold=3\n",
        "    mean = np.mean(data)\n",
        "    std =np.std(data)\n",
        "    for i in data:\n",
        "        z_score= (i - mean)/std \n",
        "        if np.abs(z_score) > threshold:\n",
        "          outliers.append(i)\n",
        "        else:\n",
        "          normal_data.append(i)\n",
        "    return outliers, normal_data"
      ],
      "metadata": {
        "id": "UuBxNETJPgjP"
      },
      "execution_count": 9,
      "outputs": []
    },
    {
      "cell_type": "code",
      "source": [
        "outlier_pt, normal_pt=detect_outliers(dataset)\n"
      ],
      "metadata": {
        "id": "7UWvGuG1Pj6n"
      },
      "execution_count": 10,
      "outputs": []
    },
    {
      "cell_type": "code",
      "source": [
        "# lets print the results\n",
        "print(\"The outlier points are: \", outlier_pt)\n",
        "print(\"The normal points are: \", normal_pt)"
      ],
      "metadata": {
        "colab": {
          "base_uri": "https://localhost:8080/"
        },
        "id": "c58E6PSxP1oc",
        "outputId": "fa81b32a-f97b-4f34-ac04-f50b5b1d5234"
      },
      "execution_count": 11,
      "outputs": [
        {
          "output_type": "stream",
          "name": "stdout",
          "text": [
            "The outlier points are:  [102, 107, 108]\n",
            "The normal points are:  [11, 10, 12, 14, 12, 15, 14, 13, 15, 12, 14, 17, 19, 10, 13, 12, 14, 12, 12, 11, 14, 13, 15, 10, 15, 12, 10, 14, 13, 15, 10]\n"
          ]
        }
      ]
    }
  ]
}