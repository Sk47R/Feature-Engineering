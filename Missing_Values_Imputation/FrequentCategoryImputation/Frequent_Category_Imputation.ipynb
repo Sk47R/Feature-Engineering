{
  "nbformat": 4,
  "nbformat_minor": 0,
  "metadata": {
    "colab": {
      "provenance": []
    },
    "kernelspec": {
      "name": "python3",
      "display_name": "Python 3"
    },
    "language_info": {
      "name": "python"
    }
  },
  "cells": [
    {
      "cell_type": "code",
      "execution_count": 11,
      "metadata": {
        "id": "Jce4IG-aHkQJ"
      },
      "outputs": [],
      "source": [
        "import pandas as pd\n",
        "import numpy as np\n",
        "import matplotlib.pyplot as plt"
      ]
    },
    {
      "cell_type": "code",
      "source": [
        "ds = pd.read_csv(\"train_housing.csv\", usecols=['BsmtQual', 'FireplaceQu', 'SalePrice'])"
      ],
      "metadata": {
        "id": "fN521doYZJbw"
      },
      "execution_count": 3,
      "outputs": []
    },
    {
      "cell_type": "code",
      "source": [
        "ds.head()"
      ],
      "metadata": {
        "colab": {
          "base_uri": "https://localhost:8080/",
          "height": 206
        },
        "id": "H7U8YySDZUGe",
        "outputId": "0568ae98-dd51-4558-f9a8-21325ea41c6d"
      },
      "execution_count": 4,
      "outputs": [
        {
          "output_type": "execute_result",
          "data": {
            "text/plain": [
              "  BsmtQual FireplaceQu  SalePrice\n",
              "0       Gd         NaN     208500\n",
              "1       Gd          TA     181500\n",
              "2       Gd          TA     223500\n",
              "3       TA          Gd     140000\n",
              "4       Gd          TA     250000"
            ],
            "text/html": [
              "\n",
              "  <div id=\"df-9c254098-7717-4054-860f-49dbff060dd7\">\n",
              "    <div class=\"colab-df-container\">\n",
              "      <div>\n",
              "<style scoped>\n",
              "    .dataframe tbody tr th:only-of-type {\n",
              "        vertical-align: middle;\n",
              "    }\n",
              "\n",
              "    .dataframe tbody tr th {\n",
              "        vertical-align: top;\n",
              "    }\n",
              "\n",
              "    .dataframe thead th {\n",
              "        text-align: right;\n",
              "    }\n",
              "</style>\n",
              "<table border=\"1\" class=\"dataframe\">\n",
              "  <thead>\n",
              "    <tr style=\"text-align: right;\">\n",
              "      <th></th>\n",
              "      <th>BsmtQual</th>\n",
              "      <th>FireplaceQu</th>\n",
              "      <th>SalePrice</th>\n",
              "    </tr>\n",
              "  </thead>\n",
              "  <tbody>\n",
              "    <tr>\n",
              "      <th>0</th>\n",
              "      <td>Gd</td>\n",
              "      <td>NaN</td>\n",
              "      <td>208500</td>\n",
              "    </tr>\n",
              "    <tr>\n",
              "      <th>1</th>\n",
              "      <td>Gd</td>\n",
              "      <td>TA</td>\n",
              "      <td>181500</td>\n",
              "    </tr>\n",
              "    <tr>\n",
              "      <th>2</th>\n",
              "      <td>Gd</td>\n",
              "      <td>TA</td>\n",
              "      <td>223500</td>\n",
              "    </tr>\n",
              "    <tr>\n",
              "      <th>3</th>\n",
              "      <td>TA</td>\n",
              "      <td>Gd</td>\n",
              "      <td>140000</td>\n",
              "    </tr>\n",
              "    <tr>\n",
              "      <th>4</th>\n",
              "      <td>Gd</td>\n",
              "      <td>TA</td>\n",
              "      <td>250000</td>\n",
              "    </tr>\n",
              "  </tbody>\n",
              "</table>\n",
              "</div>\n",
              "      <button class=\"colab-df-convert\" onclick=\"convertToInteractive('df-9c254098-7717-4054-860f-49dbff060dd7')\"\n",
              "              title=\"Convert this dataframe to an interactive table.\"\n",
              "              style=\"display:none;\">\n",
              "        \n",
              "  <svg xmlns=\"http://www.w3.org/2000/svg\" height=\"24px\"viewBox=\"0 0 24 24\"\n",
              "       width=\"24px\">\n",
              "    <path d=\"M0 0h24v24H0V0z\" fill=\"none\"/>\n",
              "    <path d=\"M18.56 5.44l.94 2.06.94-2.06 2.06-.94-2.06-.94-.94-2.06-.94 2.06-2.06.94zm-11 1L8.5 8.5l.94-2.06 2.06-.94-2.06-.94L8.5 2.5l-.94 2.06-2.06.94zm10 10l.94 2.06.94-2.06 2.06-.94-2.06-.94-.94-2.06-.94 2.06-2.06.94z\"/><path d=\"M17.41 7.96l-1.37-1.37c-.4-.4-.92-.59-1.43-.59-.52 0-1.04.2-1.43.59L10.3 9.45l-7.72 7.72c-.78.78-.78 2.05 0 2.83L4 21.41c.39.39.9.59 1.41.59.51 0 1.02-.2 1.41-.59l7.78-7.78 2.81-2.81c.8-.78.8-2.07 0-2.86zM5.41 20L4 18.59l7.72-7.72 1.47 1.35L5.41 20z\"/>\n",
              "  </svg>\n",
              "      </button>\n",
              "      \n",
              "  <style>\n",
              "    .colab-df-container {\n",
              "      display:flex;\n",
              "      flex-wrap:wrap;\n",
              "      gap: 12px;\n",
              "    }\n",
              "\n",
              "    .colab-df-convert {\n",
              "      background-color: #E8F0FE;\n",
              "      border: none;\n",
              "      border-radius: 50%;\n",
              "      cursor: pointer;\n",
              "      display: none;\n",
              "      fill: #1967D2;\n",
              "      height: 32px;\n",
              "      padding: 0 0 0 0;\n",
              "      width: 32px;\n",
              "    }\n",
              "\n",
              "    .colab-df-convert:hover {\n",
              "      background-color: #E2EBFA;\n",
              "      box-shadow: 0px 1px 2px rgba(60, 64, 67, 0.3), 0px 1px 3px 1px rgba(60, 64, 67, 0.15);\n",
              "      fill: #174EA6;\n",
              "    }\n",
              "\n",
              "    [theme=dark] .colab-df-convert {\n",
              "      background-color: #3B4455;\n",
              "      fill: #D2E3FC;\n",
              "    }\n",
              "\n",
              "    [theme=dark] .colab-df-convert:hover {\n",
              "      background-color: #434B5C;\n",
              "      box-shadow: 0px 1px 3px 1px rgba(0, 0, 0, 0.15);\n",
              "      filter: drop-shadow(0px 1px 2px rgba(0, 0, 0, 0.3));\n",
              "      fill: #FFFFFF;\n",
              "    }\n",
              "  </style>\n",
              "\n",
              "      <script>\n",
              "        const buttonEl =\n",
              "          document.querySelector('#df-9c254098-7717-4054-860f-49dbff060dd7 button.colab-df-convert');\n",
              "        buttonEl.style.display =\n",
              "          google.colab.kernel.accessAllowed ? 'block' : 'none';\n",
              "\n",
              "        async function convertToInteractive(key) {\n",
              "          const element = document.querySelector('#df-9c254098-7717-4054-860f-49dbff060dd7');\n",
              "          const dataTable =\n",
              "            await google.colab.kernel.invokeFunction('convertToInteractive',\n",
              "                                                     [key], {});\n",
              "          if (!dataTable) return;\n",
              "\n",
              "          const docLinkHtml = 'Like what you see? Visit the ' +\n",
              "            '<a target=\"_blank\" href=https://colab.research.google.com/notebooks/data_table.ipynb>data table notebook</a>'\n",
              "            + ' to learn more about interactive tables.';\n",
              "          element.innerHTML = '';\n",
              "          dataTable['output_type'] = 'display_data';\n",
              "          await google.colab.output.renderOutput(dataTable, element);\n",
              "          const docLink = document.createElement('div');\n",
              "          docLink.innerHTML = docLinkHtml;\n",
              "          element.appendChild(docLink);\n",
              "        }\n",
              "      </script>\n",
              "    </div>\n",
              "  </div>\n",
              "  "
            ]
          },
          "metadata": {},
          "execution_count": 4
        }
      ]
    },
    {
      "cell_type": "code",
      "source": [
        "# lets check the missing values\n",
        "ds.isnull().mean()"
      ],
      "metadata": {
        "colab": {
          "base_uri": "https://localhost:8080/"
        },
        "id": "WjAmsJENZU62",
        "outputId": "16bd014f-36a8-4f63-e727-c8913152e593"
      },
      "execution_count": 5,
      "outputs": [
        {
          "output_type": "execute_result",
          "data": {
            "text/plain": [
              "BsmtQual       0.025342\n",
              "FireplaceQu    0.472603\n",
              "SalePrice      0.000000\n",
              "dtype: float64"
            ]
          },
          "metadata": {},
          "execution_count": 5
        }
      ]
    },
    {
      "cell_type": "markdown",
      "source": [
        "### Note\n",
        "Imputation should be done in train as well as test set. For now we will consider only the training set.\n",
        "\n",
        "The variable BsmtQual contains only a few observations with NA (2.5), therefore, replacing those observations with the value of the most frequent category is a good approach.\n",
        "\n",
        "On the other hand, the variable FireplaceQu, contains missing data in almost half of the observations. Therefore, replacing those with the most frequent category is most likely going to distort the relationship of the most frequent category with the sale price.\n",
        "\n",
        "In addition, if so many observations in FireplaceQu are missing, it could be for a reason and not just at random, so we could be better off capturing that somehow with a different imputation technique. For now, let's explore the effect of replacing NA by the most frequent categories when missing data is few or a lot."
      ],
      "metadata": {
        "id": "Uvr5_DHXIQl9"
      }
    },
    {
      "cell_type": "code",
      "source": [
        "# lets get the percentage of missing value in 'BsmtQual' columns\n",
        "ds['BsmtQual'].isnull().mean()"
      ],
      "metadata": {
        "colab": {
          "base_uri": "https://localhost:8080/"
        },
        "id": "HrIOTsvBI8Jw",
        "outputId": "6c709057-8169-4462-851e-ed842e9f24d6"
      },
      "execution_count": 8,
      "outputs": [
        {
          "output_type": "execute_result",
          "data": {
            "text/plain": [
              "0.025342465753424658"
            ]
          },
          "metadata": {},
          "execution_count": 8
        }
      ]
    },
    {
      "cell_type": "code",
      "source": [
        "# lets calculate the number of observations per category in BsmtQual\n",
        "ds['BsmtQual'].value_counts()"
      ],
      "metadata": {
        "colab": {
          "base_uri": "https://localhost:8080/"
        },
        "id": "Uu9xWxGMTyVg",
        "outputId": "85854cd0-a92a-4b1a-b212-76aa85dc0ad8"
      },
      "execution_count": 9,
      "outputs": [
        {
          "output_type": "execute_result",
          "data": {
            "text/plain": [
              "TA    649\n",
              "Gd    618\n",
              "Ex    121\n",
              "Fa     35\n",
              "Name: BsmtQual, dtype: int64"
            ]
          },
          "metadata": {},
          "execution_count": 9
        }
      ]
    },
    {
      "cell_type": "code",
      "source": [
        "# let's observe the number of observations per category in BsmtQual\n",
        "ds['BsmtQual'].value_counts().sort_values(ascending=False).plot.bar()\n",
        "plt.xlabel('BsmtQual')\n",
        "plt.ylabel('Number of houses')"
      ],
      "metadata": {
        "colab": {
          "base_uri": "https://localhost:8080/",
          "height": 301
        },
        "id": "zD3J37k7To1u",
        "outputId": "d061666e-7deb-406a-b1fa-59cbb7802898"
      },
      "execution_count": 12,
      "outputs": [
        {
          "output_type": "execute_result",
          "data": {
            "text/plain": [
              "Text(0, 0.5, 'Number of houses')"
            ]
          },
          "metadata": {},
          "execution_count": 12
        },
        {
          "output_type": "display_data",
          "data": {
            "text/plain": [
              "<Figure size 432x288 with 1 Axes>"
            ],
            "image/png": "[encoded data removed]"
          },
          "metadata": {
            "needs_background": "light"
          }
        }
      ]
    },
    {
      "cell_type": "code",
      "source": [
        "# Let's find the most frequent category for BsmtQual\n",
        "ds['BsmtQual'].mode()"
      ],
      "metadata": {
        "colab": {
          "base_uri": "https://localhost:8080/"
        },
        "id": "a_gBiW9wJGlC",
        "outputId": "2d2199fc-7c1a-4634-fe7d-1ba9ce9c7e07"
      },
      "execution_count": 13,
      "outputs": [
        {
          "output_type": "execute_result",
          "data": {
            "text/plain": [
              "0    TA\n",
              "dtype: object"
            ]
          },
          "metadata": {},
          "execution_count": 13
        }
      ]
    },
    {
      "cell_type": "code",
      "source": [
        "# let's compare the distribution of the target for the houses that shows the \n",
        "# most frequent category and that shows the missing data\n",
        "\n",
        "fig = plt.figure()\n",
        "ax = fig.add_subplot(111)\n",
        "\n",
        "# select the most frequent label and plot it's distribution \n",
        "ds[ds['BsmtQual']=='TA']['SalePrice'].plot(kind='kde', ax=ax)\n",
        "\n",
        "# select the missing values and plot it's distribution \n",
        "ds[ds['BsmtQual'].isnull()]['SalePrice'].plot(kind='kde', ax=ax, color='red')\n",
        "\n",
        "# add the legend\n",
        "lines, labels = ax.get_legend_handles_labels()\n",
        "labels = ['Houses with TA', 'Houses with NAN']\n",
        "ax.legend(lines, labels, loc='best')\n",
        "\n",
        "# add figure title\n",
        "plt.title('BsmtQual')"
      ],
      "metadata": {
        "colab": {
          "base_uri": "https://localhost:8080/",
          "height": 299
        },
        "id": "nEWNqpLQJRZ_",
        "outputId": "39ddb2e3-7015-4521-e33d-06bf9e5d3fa3"
      },
      "execution_count": 15,
      "outputs": [
        {
          "output_type": "execute_result",
          "data": {
            "text/plain": [
              "Text(0.5, 1.0, 'BsmtQual')"
            ]
          },
          "metadata": {},
          "execution_count": 15
        },
        {
          "output_type": "display_data",
          "data": {
            "text/plain": [
              "<Figure size 432x288 with 1 Axes>"
            ],
            "image/png": "[encoded data removed]"
          },
          "metadata": {
            "needs_background": "light"
          }
        }
      ]
    },
    {
      "cell_type": "markdown",
      "source": [
        "The plot above indicates that the houses with missing data cost overall less than those with the label TA. Therefore, replacing missing values by TA, could affect the overall distribution, if there were a lot of NAN."
      ],
      "metadata": {
        "id": "BlggCQErVFlC"
      }
    },
    {
      "cell_type": "code",
      "source": [
        "# lets store the original distribution of the SalePrice in a temorary\n",
        "# variable.\n",
        "# This is to compare the distribution of the SalePrice after and\n",
        "# before imputation\n",
        "\n",
        "\n",
        "tmp = ds[ds['BsmtQual']=='TA']['SalePrice']"
      ],
      "metadata": {
        "id": "qr1Yf__IJft1"
      },
      "execution_count": 19,
      "outputs": []
    },
    {
      "cell_type": "code",
      "source": [
        "# Let's handle the missing value with the most frequent label\n",
        "ds['BsmtQual'].fillna('TA', inplace=True)"
      ],
      "metadata": {
        "id": "_FIDl9TYVmxf"
      },
      "execution_count": 20,
      "outputs": []
    },
    {
      "cell_type": "code",
      "source": [
        "# lets print the dataset\n",
        "ds.head(10)"
      ],
      "metadata": {
        "colab": {
          "base_uri": "https://localhost:8080/",
          "height": 363
        },
        "id": "lyX-eAyUJ-yw",
        "outputId": "87d1905f-1ae2-459c-d959-ffe46f7e88e0"
      },
      "execution_count": 22,
      "outputs": [
        {
          "output_type": "execute_result",
          "data": {
            "text/plain": [
              "  BsmtQual FireplaceQu  SalePrice\n",
              "0       Gd         NaN     208500\n",
              "1       Gd          TA     181500\n",
              "2       Gd          TA     223500\n",
              "3       TA          Gd     140000\n",
              "4       Gd          TA     250000\n",
              "5       Gd         NaN     143000\n",
              "6       Ex          Gd     307000\n",
              "7       Gd          TA     200000\n",
              "8       TA          TA     129900\n",
              "9       TA          TA     118000"
            ],
            "text/html": [
              "\n",
              "  <div id=\"df-c92c43e8-26f6-4da2-8ac8-d615a8fdbf6b\">\n",
              "    <div class=\"colab-df-container\">\n",
              "      <div>\n",
              "<style scoped>\n",
              "    .dataframe tbody tr th:only-of-type {\n",
              "        vertical-align: middle;\n",
              "    }\n",
              "\n",
              "    .dataframe tbody tr th {\n",
              "        vertical-align: top;\n",
              "    }\n",
              "\n",
              "    .dataframe thead th {\n",
              "        text-align: right;\n",
              "    }\n",
              "</style>\n",
              "<table border=\"1\" class=\"dataframe\">\n",
              "  <thead>\n",
              "    <tr style=\"text-align: right;\">\n",
              "      <th></th>\n",
              "      <th>BsmtQual</th>\n",
              "      <th>FireplaceQu</th>\n",
              "      <th>SalePrice</th>\n",
              "    </tr>\n",
              "  </thead>\n",
              "  <tbody>\n",
              "    <tr>\n",
              "      <th>0</th>\n",
              "      <td>Gd</td>\n",
              "      <td>NaN</td>\n",
              "      <td>208500</td>\n",
              "    </tr>\n",
              "    <tr>\n",
              "      <th>1</th>\n",
              "      <td>Gd</td>\n",
              "      <td>TA</td>\n",
              "      <td>181500</td>\n",
              "    </tr>\n",
              "    <tr>\n",
              "      <th>2</th>\n",
              "      <td>Gd</td>\n",
              "      <td>TA</td>\n",
              "      <td>223500</td>\n",
              "    </tr>\n",
              "    <tr>\n",
              "      <th>3</th>\n",
              "      <td>TA</td>\n",
              "      <td>Gd</td>\n",
              "      <td>140000</td>\n",
              "    </tr>\n",
              "    <tr>\n",
              "      <th>4</th>\n",
              "      <td>Gd</td>\n",
              "      <td>TA</td>\n",
              "      <td>250000</td>\n",
              "    </tr>\n",
              "    <tr>\n",
              "      <th>5</th>\n",
              "      <td>Gd</td>\n",
              "      <td>NaN</td>\n",
              "      <td>143000</td>\n",
              "    </tr>\n",
              "    <tr>\n",
              "      <th>6</th>\n",
              "      <td>Ex</td>\n",
              "      <td>Gd</td>\n",
              "      <td>307000</td>\n",
              "    </tr>\n",
              "    <tr>\n",
              "      <th>7</th>\n",
              "      <td>Gd</td>\n",
              "      <td>TA</td>\n",
              "      <td>200000</td>\n",
              "    </tr>\n",
              "    <tr>\n",
              "      <th>8</th>\n",
              "      <td>TA</td>\n",
              "      <td>TA</td>\n",
              "      <td>129900</td>\n",
              "    </tr>\n",
              "    <tr>\n",
              "      <th>9</th>\n",
              "      <td>TA</td>\n",
              "      <td>TA</td>\n",
              "      <td>118000</td>\n",
              "    </tr>\n",
              "  </tbody>\n",
              "</table>\n",
              "</div>\n",
              "      <button class=\"colab-df-convert\" onclick=\"convertToInteractive('df-c92c43e8-26f6-4da2-8ac8-d615a8fdbf6b')\"\n",
              "              title=\"Convert this dataframe to an interactive table.\"\n",
              "              style=\"display:none;\">\n",
              "        \n",
              "  <svg xmlns=\"http://www.w3.org/2000/svg\" height=\"24px\"viewBox=\"0 0 24 24\"\n",
              "       width=\"24px\">\n",
              "    <path d=\"M0 0h24v24H0V0z\" fill=\"none\"/>\n",
              "    <path d=\"M18.56 5.44l.94 2.06.94-2.06 2.06-.94-2.06-.94-.94-2.06-.94 2.06-2.06.94zm-11 1L8.5 8.5l.94-2.06 2.06-.94-2.06-.94L8.5 2.5l-.94 2.06-2.06.94zm10 10l.94 2.06.94-2.06 2.06-.94-2.06-.94-.94-2.06-.94 2.06-2.06.94z\"/><path d=\"M17.41 7.96l-1.37-1.37c-.4-.4-.92-.59-1.43-.59-.52 0-1.04.2-1.43.59L10.3 9.45l-7.72 7.72c-.78.78-.78 2.05 0 2.83L4 21.41c.39.39.9.59 1.41.59.51 0 1.02-.2 1.41-.59l7.78-7.78 2.81-2.81c.8-.78.8-2.07 0-2.86zM5.41 20L4 18.59l7.72-7.72 1.47 1.35L5.41 20z\"/>\n",
              "  </svg>\n",
              "      </button>\n",
              "      \n",
              "  <style>\n",
              "    .colab-df-container {\n",
              "      display:flex;\n",
              "      flex-wrap:wrap;\n",
              "      gap: 12px;\n",
              "    }\n",
              "\n",
              "    .colab-df-convert {\n",
              "      background-color: #E8F0FE;\n",
              "      border: none;\n",
              "      border-radius: 50%;\n",
              "      cursor: pointer;\n",
              "      display: none;\n",
              "      fill: #1967D2;\n",
              "      height: 32px;\n",
              "      padding: 0 0 0 0;\n",
              "      width: 32px;\n",
              "    }\n",
              "\n",
              "    .colab-df-convert:hover {\n",
              "      background-color: #E2EBFA;\n",
              "      box-shadow: 0px 1px 2px rgba(60, 64, 67, 0.3), 0px 1px 3px 1px rgba(60, 64, 67, 0.15);\n",
              "      fill: #174EA6;\n",
              "    }\n",
              "\n",
              "    [theme=dark] .colab-df-convert {\n",
              "      background-color: #3B4455;\n",
              "      fill: #D2E3FC;\n",
              "    }\n",
              "\n",
              "    [theme=dark] .colab-df-convert:hover {\n",
              "      background-color: #434B5C;\n",
              "      box-shadow: 0px 1px 3px 1px rgba(0, 0, 0, 0.15);\n",
              "      filter: drop-shadow(0px 1px 2px rgba(0, 0, 0, 0.3));\n",
              "      fill: #FFFFFF;\n",
              "    }\n",
              "  </style>\n",
              "\n",
              "      <script>\n",
              "        const buttonEl =\n",
              "          document.querySelector('#df-c92c43e8-26f6-4da2-8ac8-d615a8fdbf6b button.colab-df-convert');\n",
              "        buttonEl.style.display =\n",
              "          google.colab.kernel.accessAllowed ? 'block' : 'none';\n",
              "\n",
              "        async function convertToInteractive(key) {\n",
              "          const element = document.querySelector('#df-c92c43e8-26f6-4da2-8ac8-d615a8fdbf6b');\n",
              "          const dataTable =\n",
              "            await google.colab.kernel.invokeFunction('convertToInteractive',\n",
              "                                                     [key], {});\n",
              "          if (!dataTable) return;\n",
              "\n",
              "          const docLinkHtml = 'Like what you see? Visit the ' +\n",
              "            '<a target=\"_blank\" href=https://colab.research.google.com/notebooks/data_table.ipynb>data table notebook</a>'\n",
              "            + ' to learn more about interactive tables.';\n",
              "          element.innerHTML = '';\n",
              "          dataTable['output_type'] = 'display_data';\n",
              "          await google.colab.output.renderOutput(dataTable, element);\n",
              "          const docLink = document.createElement('div');\n",
              "          docLink.innerHTML = docLinkHtml;\n",
              "          element.appendChild(docLink);\n",
              "        }\n",
              "      </script>\n",
              "    </div>\n",
              "  </div>\n",
              "  "
            ]
          },
          "metadata": {},
          "execution_count": 22
        }
      ]
    },
    {
      "cell_type": "code",
      "source": [
        "# Let's check the process\n",
        "\n",
        "ds['BsmtQual'].isnull().sum()"
      ],
      "metadata": {
        "colab": {
          "base_uri": "https://localhost:8080/"
        },
        "id": "rsQ_XE2nVzKo",
        "outputId": "75afbd62-ba69-44b8-9ff4-e53f1d8fe466"
      },
      "execution_count": 23,
      "outputs": [
        {
          "output_type": "execute_result",
          "data": {
            "text/plain": [
              "0"
            ]
          },
          "metadata": {},
          "execution_count": 23
        }
      ]
    },
    {
      "cell_type": "code",
      "source": [
        "# lets compare the effect of imputation on the distribution of data\n",
        "\n",
        "ds['BsmtQual'].value_counts().sort_values(ascending=False).plot.bar()\n",
        "plt.xlabel('BsmtQual')\n",
        "plt.ylabel('Number of houses')"
      ],
      "metadata": {
        "colab": {
          "base_uri": "https://localhost:8080/",
          "height": 301
        },
        "id": "ELuRl0LbKkQf",
        "outputId": "fce0ae11-a395-4100-ce30-426b2cb13868"
      },
      "execution_count": 24,
      "outputs": [
        {
          "output_type": "execute_result",
          "data": {
            "text/plain": [
              "Text(0, 0.5, 'Number of houses')"
            ]
          },
          "metadata": {},
          "execution_count": 24
        },
        {
          "output_type": "display_data",
          "data": {
            "text/plain": [
              "<Figure size 432x288 with 1 Axes>"
            ],
            "image/png": "[encoded data removed]"
          },
          "metadata": {
            "needs_background": "light"
          }
        }
      ]
    },
    {
      "cell_type": "markdown",
      "source": [
        "From the plot, we can see that there are few more houses having label TA than the original dataset, but the overall effect on the distribution is not compromised/distorted. The plot's before and after imputation looks almost similar.."
      ],
      "metadata": {
        "id": "ecbEpC0zWIux"
      }
    },
    {
      "cell_type": "code",
      "source": [
        "# Now lets check whether the distribution of the SalePrice for the most \n",
        "# frequent category changed or not.\n",
        "\n",
        "fig = plt.figure()\n",
        "ax = fig.add_subplot(111)\n",
        "\n",
        "# original distribution of salePrice for houses with most frequent label\n",
        "tmp.plot(kind='kde', ax=ax, color=\"blue\")\n",
        "\n",
        "# distribution of the salePrice after imputation\n",
        "ds[ds['FireplaceQu'] == 'Gd']['SalePrice'].plot(\n",
        "    kind='kde', ax=ax, color='red')\n",
        "\n",
        "# add the legend\n",
        "lines, labels = ax.get_legend_handles_labels()\n",
        "labels = ['Original variable', 'Imputed variable']\n",
        "ax.legend(lines, labels, loc='best')\n",
        "\n",
        "# add title\n",
        "plt.title('FireplaceQu')"
      ],
      "metadata": {
        "colab": {
          "base_uri": "https://localhost:8080/",
          "height": 299
        },
        "id": "S3k3LDEnWH9p",
        "outputId": "8d949da9-2fea-4bee-87d3-4dd69da1ac11"
      },
      "execution_count": 39,
      "outputs": [
        {
          "output_type": "execute_result",
          "data": {
            "text/plain": [
              "Text(0.5, 1.0, 'FireplaceQu')"
            ]
          },
          "metadata": {},
          "execution_count": 39
        },
        {
          "output_type": "display_data",
          "data": {
            "text/plain": [
              "<Figure size 432x288 with 1 Axes>"
            ],
            "image/png": "[encoded data removed]"
          },
          "metadata": {
            "needs_background": "light"
          }
        }
      ]
    },
    {
      "cell_type": "markdown",
      "source": [
        "The average house value for the most frequent category has decreased quite dramatically after adding the house values of the NA, following the re-categorisation of NA as the most frequent label.\n",
        "\n",
        "Thus, the importance of this particular label for the prediction of house prices is masked or changed by the addition of missing values.\n",
        "\n",
        "In cases like this, when the percentage of missing values is so high (50%), we are better off creating a new category to enclose the observations with NA."
      ],
      "metadata": {
        "id": "srIlyi0SXGSJ"
      }
    },
    {
      "cell_type": "markdown",
      "source": [
        "**Now lets see the effect of Frequent Count Imputation on the feature having high percentage of missing values**"
      ],
      "metadata": {
        "id": "eGKWOUEYXPNn"
      }
    },
    {
      "cell_type": "markdown",
      "source": [
        "For this we take 'FirePlaceQu' Feature from the above dataset."
      ],
      "metadata": {
        "id": "FgdroPy4XdrY"
      }
    },
    {
      "cell_type": "code",
      "source": [
        "# let's again check the percentage of null values for this feature\n",
        "ds['FireplaceQu'].isnull().mean()"
      ],
      "metadata": {
        "colab": {
          "base_uri": "https://localhost:8080/"
        },
        "id": "G9uGSN7pK7W4",
        "outputId": "011f48c8-3eec-4053-c125-431369f9b7e3"
      },
      "execution_count": 27,
      "outputs": [
        {
          "output_type": "execute_result",
          "data": {
            "text/plain": [
              "0.4726027397260274"
            ]
          },
          "metadata": {},
          "execution_count": 27
        }
      ]
    },
    {
      "cell_type": "code",
      "source": [
        "# let's observe the number of observations per category\n",
        "\n",
        "ds['FireplaceQu'].value_counts().sort_values(ascending=False).plot.bar()\n",
        "plt.xlabel('FireplaceQu')\n",
        "plt.ylabel('Number of houses')"
      ],
      "metadata": {
        "colab": {
          "base_uri": "https://localhost:8080/",
          "height": 301
        },
        "id": "PspU1pjMXq1p",
        "outputId": "3ce0f0a2-127c-42ca-ef54-fcaee86881b3"
      },
      "execution_count": 29,
      "outputs": [
        {
          "output_type": "execute_result",
          "data": {
            "text/plain": [
              "Text(0, 0.5, 'Number of houses')"
            ]
          },
          "metadata": {},
          "execution_count": 29
        },
        {
          "output_type": "display_data",
          "data": {
            "text/plain": [
              "<Figure size 432x288 with 1 Axes>"
            ],
            "image/png": "[encoded data removed]"
          },
          "metadata": {
            "needs_background": "light"
          }
        }
      ]
    },
    {
      "cell_type": "code",
      "source": [
        "# Finding the most frequent word\n",
        "ds['FireplaceQu'].mode()\n"
      ],
      "metadata": {
        "colab": {
          "base_uri": "https://localhost:8080/"
        },
        "id": "1Cb4KwjmXw3r",
        "outputId": "b172b2f7-2204-4d0a-b99b-5cecca98e182"
      },
      "execution_count": 30,
      "outputs": [
        {
          "output_type": "execute_result",
          "data": {
            "text/plain": [
              "0    Gd\n",
              "dtype: object"
            ]
          },
          "metadata": {},
          "execution_count": 30
        }
      ]
    },
    {
      "cell_type": "code",
      "source": [
        "# let's compare the distribution of the target for the houses that shows the \n",
        "# most frequent category and that shows the missing data\n",
        "\n",
        "fig = plt.figure()\n",
        "ax = fig.add_subplot(111)\n",
        "\n",
        "# select the most frequent label and plot it's distribution \n",
        "ds[ds['FireplaceQu']=='Gd']['SalePrice'].plot(kind='kde', ax=ax)\n",
        "\n",
        "# select the missing values and plot it's distribution \n",
        "ds[ds['FireplaceQu'].isnull()]['SalePrice'].plot(kind='kde', ax=ax, color='red')\n",
        "\n",
        "# add the legend\n",
        "lines, labels = ax.get_legend_handles_labels()\n",
        "labels = ['Houses with GD', 'Houses with NAN']\n",
        "ax.legend(lines, labels, loc='best')\n",
        "\n",
        "# add figure title\n",
        "plt.title('FireplaceQu')"
      ],
      "metadata": {
        "id": "bOkKklrybbXE",
        "colab": {
          "base_uri": "https://localhost:8080/",
          "height": 299
        },
        "outputId": "830a5122-511a-4bb3-8e55-12e75b85a0c8"
      },
      "execution_count": 32,
      "outputs": [
        {
          "output_type": "execute_result",
          "data": {
            "text/plain": [
              "Text(0.5, 1.0, 'FireplaceQu')"
            ]
          },
          "metadata": {},
          "execution_count": 32
        },
        {
          "output_type": "display_data",
          "data": {
            "text/plain": [
              "<Figure size 432x288 with 1 Axes>"
            ],
            "image/png": "[encoded data removed]"
          },
          "metadata": {
            "needs_background": "light"
          }
        }
      ]
    },
    {
      "cell_type": "markdown",
      "source": [
        "The distributions are quite different, houses with missing data cost overall less than those with the label Gd.\n",
        "\n"
      ],
      "metadata": {
        "id": "_k9fyokWYenm"
      }
    },
    {
      "cell_type": "code",
      "source": [
        "# lets store the original distribution of the SalePrice in a temorary\n",
        "# variable.\n",
        "# This is to compare the distribution of the SalePrice after and\n",
        "# before imputation\n",
        "\n",
        "\n",
        "tmp = ds[ds['FireplaceQu']=='Gd']['SalePrice']"
      ],
      "metadata": {
        "id": "iIE7qkLVdaE6"
      },
      "execution_count": 35,
      "outputs": []
    },
    {
      "cell_type": "code",
      "source": [
        "# Let's fill NaN values\n",
        "\n",
        "ds['FireplaceQu'].fillna('Gd', inplace=True)"
      ],
      "metadata": {
        "id": "4sDz11svY13p"
      },
      "execution_count": 37,
      "outputs": []
    },
    {
      "cell_type": "code",
      "source": [
        "# let's observe the number of observations per category after imputation\n",
        "\n",
        "ds['FireplaceQu'].value_counts().sort_values(ascending=False).plot.bar()\n",
        "plt.xlabel('FireplaceQu')\n",
        "plt.ylabel('Number of houses')"
      ],
      "metadata": {
        "colab": {
          "base_uri": "https://localhost:8080/",
          "height": 301
        },
        "id": "fsLNrOXuY58w",
        "outputId": "e8d03c4d-9cd1-45a0-ff08-b7873c853b64"
      },
      "execution_count": 38,
      "outputs": [
        {
          "output_type": "execute_result",
          "data": {
            "text/plain": [
              "Text(0, 0.5, 'Number of houses')"
            ]
          },
          "metadata": {},
          "execution_count": 38
        },
        {
          "output_type": "display_data",
          "data": {
            "text/plain": [
              "<Figure size 432x288 with 1 Axes>"
            ],
            "image/png": "[encoded data removed]"
          },
          "metadata": {
            "needs_background": "light"
          }
        }
      ]
    },
    {
      "cell_type": "markdown",
      "source": [
        "In this case, we see a large distortion in the original distribution of the variable. Now we have a lot more houses that contain the variable Gd, compared to the houses that show the other variables. Originally, half of the observations in FirePlaceQu were missing. Now, all of those values contain Gd. That is why we observe a big increase in Gd in the bar plot."
      ],
      "metadata": {
        "id": "-LQ8Xm79ZDjK"
      }
    },
    {
      "cell_type": "code",
      "source": [
        "# let's compare the distribution of the target for the houses that shows the \n",
        "# most frequent category and that shows the missing data\n",
        "\n",
        "fig = plt.figure()\n",
        "ax = fig.add_subplot(111)\n",
        "\n",
        "# select the most frequent label and plot it's distribution \n",
        "tmp.plot(kind='kde', ax=ax)\n",
        "\n",
        "# select the missing values and plot it's distribution \n",
        "ds[ds['FireplaceQu'] == 'Gd']['SalePrice'].plot(\n",
        "    kind='kde', ax=ax, color='red')\n",
        "# add the legend\n",
        "lines, labels = ax.get_legend_handles_labels()\n",
        "labels = ['Original variable', 'Imputed variable']\n",
        "ax.legend(lines, labels, loc='best')\n",
        "\n",
        "# add figure title\n",
        "plt.title('FireplaceQu')"
      ],
      "metadata": {
        "colab": {
          "base_uri": "https://localhost:8080/",
          "height": 299
        },
        "id": "n3aRqOEIZBpw",
        "outputId": "e4597e0e-2512-4c3c-9f0b-0cf6285e29ba"
      },
      "execution_count": 41,
      "outputs": [
        {
          "output_type": "execute_result",
          "data": {
            "text/plain": [
              "Text(0.5, 1.0, 'FireplaceQu')"
            ]
          },
          "metadata": {},
          "execution_count": 41
        },
        {
          "output_type": "display_data",
          "data": {
            "text/plain": [
              "<Figure size 432x288 with 1 Axes>"
            ],
            "image/png": "[encoded data removed]"
          },
          "metadata": {
            "needs_background": "light"
          }
        }
      ]
    },
    {
      "cell_type": "markdown",
      "source": [
        "The average house value for the most frequent category has decreased quite dramatically after adding the house values of the NA, following the re-categorisation of NA as the most frequent label.\n",
        "\n",
        "Thus, the importance of this particular label for the prediction of house prices is masked or changed by the addition of missing values.\n",
        "\n",
        "In cases like this, when the percentage of missing values is so high (50%), we are better off creating a new category to enclose the observations with NA."
      ],
      "metadata": {
        "id": "lL4Y4v2oacwp"
      }
    },
    {
      "cell_type": "markdown",
      "source": [
        "Now we have to do the same steps for test set as well."
      ],
      "metadata": {
        "id": "KCJBzq1rM-lJ"
      }
    }
  ]
}