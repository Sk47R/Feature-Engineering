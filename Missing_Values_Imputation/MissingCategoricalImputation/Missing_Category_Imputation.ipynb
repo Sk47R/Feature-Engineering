{
  "cells": [
    {
      "cell_type": "code",
      "execution_count": 1,
      "metadata": {
        "id": "Jce4IG-aHkQJ"
      },
      "outputs": [],
      "source": [
        "import pandas as pd\n",
        "import numpy as np\n",
        "import matplotlib.pyplot as plt"
      ]
    },
    {
      "cell_type": "code",
      "execution_count": 2,
      "metadata": {
        "id": "fN521doYZJbw"
      },
      "outputs": [],
      "source": [
        "ds = pd.read_csv(\"train_housing.csv\", usecols=['BsmtQual', 'FireplaceQu', 'SalePrice'])"
      ]
    },
    {
      "cell_type": "code",
      "execution_count": 3,
      "metadata": {
        "colab": {
          "base_uri": "https://localhost:8080/",
          "height": 206
        },
        "id": "H7U8YySDZUGe",
        "outputId": "fbf5df0d-84fb-4860-a70e-6356c9c9eb64"
      },
      "outputs": [
        {
          "data": {
            "text/html": [
              "\n",
              "  <div id=\"df-764401a5-636f-4dbd-97cf-c66785280d89\">\n",
              "    <div class=\"colab-df-container\">\n",
              "      <div>\n",
              "<style scoped>\n",
              "    .dataframe tbody tr th:only-of-type {\n",
              "        vertical-align: middle;\n",
              "    }\n",
              "\n",
              "    .dataframe tbody tr th {\n",
              "        vertical-align: top;\n",
              "    }\n",
              "\n",
              "    .dataframe thead th {\n",
              "        text-align: right;\n",
              "    }\n",
              "</style>\n",
              "<table border=\"1\" class=\"dataframe\">\n",
              "  <thead>\n",
              "    <tr style=\"text-align: right;\">\n",
              "      <th></th>\n",
              "      <th>BsmtQual</th>\n",
              "      <th>FireplaceQu</th>\n",
              "      <th>SalePrice</th>\n",
              "    </tr>\n",
              "  </thead>\n",
              "  <tbody>\n",
              "    <tr>\n",
              "      <th>0</th>\n",
              "      <td>Gd</td>\n",
              "      <td>NaN</td>\n",
              "      <td>208500</td>\n",
              "    </tr>\n",
              "    <tr>\n",
              "      <th>1</th>\n",
              "      <td>Gd</td>\n",
              "      <td>TA</td>\n",
              "      <td>181500</td>\n",
              "    </tr>\n",
              "    <tr>\n",
              "      <th>2</th>\n",
              "      <td>Gd</td>\n",
              "      <td>TA</td>\n",
              "      <td>223500</td>\n",
              "    </tr>\n",
              "    <tr>\n",
              "      <th>3</th>\n",
              "      <td>TA</td>\n",
              "      <td>Gd</td>\n",
              "      <td>140000</td>\n",
              "    </tr>\n",
              "    <tr>\n",
              "      <th>4</th>\n",
              "      <td>Gd</td>\n",
              "      <td>TA</td>\n",
              "      <td>250000</td>\n",
              "    </tr>\n",
              "  </tbody>\n",
              "</table>\n",
              "</div>\n",
              "      <button class=\"colab-df-convert\" onclick=\"convertToInteractive('df-764401a5-636f-4dbd-97cf-c66785280d89')\"\n",
              "              title=\"Convert this dataframe to an interactive table.\"\n",
              "              style=\"display:none;\">\n",
              "        \n",
              "  <svg xmlns=\"http://www.w3.org/2000/svg\" height=\"24px\"viewBox=\"0 0 24 24\"\n",
              "       width=\"24px\">\n",
              "    <path d=\"M0 0h24v24H0V0z\" fill=\"none\"/>\n",
              "    <path d=\"M18.56 5.44l.94 2.06.94-2.06 2.06-.94-2.06-.94-.94-2.06-.94 2.06-2.06.94zm-11 1L8.5 8.5l.94-2.06 2.06-.94-2.06-.94L8.5 2.5l-.94 2.06-2.06.94zm10 10l.94 2.06.94-2.06 2.06-.94-2.06-.94-.94-2.06-.94 2.06-2.06.94z\"/><path d=\"M17.41 7.96l-1.37-1.37c-.4-.4-.92-.59-1.43-.59-.52 0-1.04.2-1.43.59L10.3 9.45l-7.72 7.72c-.78.78-.78 2.05 0 2.83L4 21.41c.39.39.9.59 1.41.59.51 0 1.02-.2 1.41-.59l7.78-7.78 2.81-2.81c.8-.78.8-2.07 0-2.86zM5.41 20L4 18.59l7.72-7.72 1.47 1.35L5.41 20z\"/>\n",
              "  </svg>\n",
              "      </button>\n",
              "      \n",
              "  <style>\n",
              "    .colab-df-container {\n",
              "      display:flex;\n",
              "      flex-wrap:wrap;\n",
              "      gap: 12px;\n",
              "    }\n",
              "\n",
              "    .colab-df-convert {\n",
              "      background-color: #E8F0FE;\n",
              "      border: none;\n",
              "      border-radius: 50%;\n",
              "      cursor: pointer;\n",
              "      display: none;\n",
              "      fill: #1967D2;\n",
              "      height: 32px;\n",
              "      padding: 0 0 0 0;\n",
              "      width: 32px;\n",
              "    }\n",
              "\n",
              "    .colab-df-convert:hover {\n",
              "      background-color: #E2EBFA;\n",
              "      box-shadow: 0px 1px 2px rgba(60, 64, 67, 0.3), 0px 1px 3px 1px rgba(60, 64, 67, 0.15);\n",
              "      fill: #174EA6;\n",
              "    }\n",
              "\n",
              "    [theme=dark] .colab-df-convert {\n",
              "      background-color: #3B4455;\n",
              "      fill: #D2E3FC;\n",
              "    }\n",
              "\n",
              "    [theme=dark] .colab-df-convert:hover {\n",
              "      background-color: #434B5C;\n",
              "      box-shadow: 0px 1px 3px 1px rgba(0, 0, 0, 0.15);\n",
              "      filter: drop-shadow(0px 1px 2px rgba(0, 0, 0, 0.3));\n",
              "      fill: #FFFFFF;\n",
              "    }\n",
              "  </style>\n",
              "\n",
              "      <script>\n",
              "        const buttonEl =\n",
              "          document.querySelector('#df-764401a5-636f-4dbd-97cf-c66785280d89 button.colab-df-convert');\n",
              "        buttonEl.style.display =\n",
              "          google.colab.kernel.accessAllowed ? 'block' : 'none';\n",
              "\n",
              "        async function convertToInteractive(key) {\n",
              "          const element = document.querySelector('#df-764401a5-636f-4dbd-97cf-c66785280d89');\n",
              "          const dataTable =\n",
              "            await google.colab.kernel.invokeFunction('convertToInteractive',\n",
              "                                                     [key], {});\n",
              "          if (!dataTable) return;\n",
              "\n",
              "          const docLinkHtml = 'Like what you see? Visit the ' +\n",
              "            '<a target=\"_blank\" href=https://colab.research.google.com/notebooks/data_table.ipynb>data table notebook</a>'\n",
              "            + ' to learn more about interactive tables.';\n",
              "          element.innerHTML = '';\n",
              "          dataTable['output_type'] = 'display_data';\n",
              "          await google.colab.output.renderOutput(dataTable, element);\n",
              "          const docLink = document.createElement('div');\n",
              "          docLink.innerHTML = docLinkHtml;\n",
              "          element.appendChild(docLink);\n",
              "        }\n",
              "      </script>\n",
              "    </div>\n",
              "  </div>\n",
              "  "
            ],
            "text/plain": [
              "  BsmtQual FireplaceQu  SalePrice\n",
              "0       Gd         NaN     208500\n",
              "1       Gd          TA     181500\n",
              "2       Gd          TA     223500\n",
              "3       TA          Gd     140000\n",
              "4       Gd          TA     250000"
            ]
          },
          "execution_count": 3,
          "metadata": {},
          "output_type": "execute_result"
        }
      ],
      "source": [
        "ds.head()"
      ]
    },
    {
      "cell_type": "code",
      "execution_count": 4,
      "metadata": {
        "colab": {
          "base_uri": "https://localhost:8080/"
        },
        "id": "WjAmsJENZU62",
        "outputId": "8eafdb7d-5ecb-4451-e65a-2726c6da1991"
      },
      "outputs": [
        {
          "data": {
            "text/plain": [
              "BsmtQual       0.025342\n",
              "FireplaceQu    0.472603\n",
              "SalePrice      0.000000\n",
              "dtype: float64"
            ]
          },
          "execution_count": 4,
          "metadata": {},
          "output_type": "execute_result"
        }
      ],
      "source": [
        "# lets check the missing values\n",
        "ds.isnull().mean()"
      ]
    },
    {
      "cell_type": "markdown",
      "metadata": {
        "id": "Uvr5_DHXIQl9"
      },
      "source": [
        "### Note\n",
        "Imputation should be done in train as well as test set. For now we will consider only the training set.\n",
        "\n",
        "The variable BsmtQual contains only a few observations with NA (2.5), therefore, handling the missing value with Missing Categorical Imputation may not be appropriate. However, we will also perform the imputation to see how does it work on features having less NaN values.\n",
        "\n",
        "On the other hand, the variable FireplaceQu, contains missing data in almost half of the observations. Therefore, handling the missing value with Missing Categorical Imputation is the best approach.\n"
      ]
    },
    {
      "cell_type": "markdown",
      "metadata": {
        "id": "KIr1B0DyedQB"
      },
      "source": [
        "### For BsmtQual"
      ]
    },
    {
      "cell_type": "code",
      "execution_count": 5,
      "metadata": {
        "colab": {
          "base_uri": "https://localhost:8080/"
        },
        "id": "HrIOTsvBI8Jw",
        "outputId": "756984b0-b9cd-4e66-f047-6f7842b97dce"
      },
      "outputs": [
        {
          "data": {
            "text/plain": [
              "0.025342465753424658"
            ]
          },
          "execution_count": 5,
          "metadata": {},
          "output_type": "execute_result"
        }
      ],
      "source": [
        "# lets get the percentage of missing value in 'BsmtQual' columns\n",
        "ds['BsmtQual'].isnull().mean()"
      ]
    },
    {
      "cell_type": "code",
      "execution_count": 6,
      "metadata": {
        "colab": {
          "base_uri": "https://localhost:8080/"
        },
        "id": "Uu9xWxGMTyVg",
        "outputId": "1c7291aa-1658-4cc4-fc5a-d29e238de3e7"
      },
      "outputs": [
        {
          "data": {
            "text/plain": [
              "TA    649\n",
              "Gd    618\n",
              "Ex    121\n",
              "Fa     35\n",
              "Name: BsmtQual, dtype: int64"
            ]
          },
          "execution_count": 6,
          "metadata": {},
          "output_type": "execute_result"
        }
      ],
      "source": [
        "# lets calculate the number of observations per category in BsmtQual\n",
        "ds['BsmtQual'].value_counts()"
      ]
    },
    {
      "cell_type": "code",
      "execution_count": 7,
      "metadata": {
        "colab": {
          "base_uri": "https://localhost:8080/",
          "height": 301
        },
        "id": "zD3J37k7To1u",
        "outputId": "d2f63b37-9626-42c2-9682-3156f9ee662c"
      },
      "outputs": [
        {
          "data": {
            "text/plain": [
              "Text(0, 0.5, 'Number of houses')"
            ]
          },
          "execution_count": 7,
          "metadata": {},
          "output_type": "execute_result"
        },
        {
          "data": {
            "image/png": "[encoded data removed]",
            "text/plain": [
              "<Figure size 432x288 with 1 Axes>"
            ]
          },
          "metadata": {
            "needs_background": "light"
          },
          "output_type": "display_data"
        }
      ],
      "source": [
        "# let's observe the number of observations per category in BsmtQual\n",
        "ds['BsmtQual'].value_counts().sort_values(ascending=False).plot.bar()\n",
        "plt.xlabel('BsmtQual')\n",
        "plt.ylabel('Number of houses')"
      ]
    },
    {
      "cell_type": "code",
      "execution_count": 9,
      "metadata": {
        "id": "a_gBiW9wJGlC"
      },
      "outputs": [],
      "source": [
        "# Let's fill the NaN values with a new feature 'Missing'\n",
        "\n",
        "ds['BsmtQual'].fillna('Missing', inplace=True)"
      ]
    },
    {
      "cell_type": "code",
      "execution_count": 11,
      "metadata": {
        "colab": {
          "base_uri": "https://localhost:8080/",
          "height": 325
        },
        "id": "bYYxlsWrevSi",
        "outputId": "dfdf5665-1262-4b6e-b7a2-f4e3cb209096"
      },
      "outputs": [
        {
          "data": {
            "text/plain": [
              "Text(0, 0.5, 'Number of houses')"
            ]
          },
          "execution_count": 11,
          "metadata": {},
          "output_type": "execute_result"
        },
        {
          "data": {
            "image/png": "[encoded data removed]",
            "text/plain": [
              "<Figure size 432x288 with 1 Axes>"
            ]
          },
          "metadata": {
            "needs_background": "light"
          },
          "output_type": "display_data"
        }
      ],
      "source": [
        "# let's plot the number of houses per category after imputation\n",
        "\n",
        "ds['BsmtQual'].value_counts().sort_values(ascending=False).plot.bar()\n",
        "plt.xlabel('BsmtQual')\n",
        "plt.ylabel('Number of houses')"
      ]
    },
    {
      "cell_type": "markdown",
      "metadata": {
        "id": "aueURvt8fMsP"
      },
      "source": [
        "We can see a new category 'Missing'"
      ]
    },
    {
      "cell_type": "code",
      "execution_count": 12,
      "metadata": {
        "colab": {
          "base_uri": "https://localhost:8080/",
          "height": 307
        },
        "id": "nEWNqpLQJRZ_",
        "outputId": "8df90bd1-b729-4e69-80d4-fb4d35cc0445"
      },
      "outputs": [
        {
          "data": {
            "text/plain": [
              "<matplotlib.legend.Legend at 0x7f0b60fc0450>"
            ]
          },
          "execution_count": 12,
          "metadata": {},
          "output_type": "execute_result"
        },
        {
          "data": {
            "image/png": "[encoded data removed]",
            "text/plain": [
              "<Figure size 432x288 with 1 Axes>"
            ]
          },
          "metadata": {
            "needs_background": "light"
          },
          "output_type": "display_data"
        }
      ],
      "source": [
        "# let's compare the distribution of the target for the houses that shows the \n",
        "# different categories of the variable\n",
        "\n",
        "fig = plt.figure()\n",
        "ax = fig.add_subplot(111)\n",
        "\n",
        "# a plot per category\n",
        "ds[ds['BsmtQual']=='TA']['SalePrice'].plot(kind='kde', ax=ax)\n",
        "ds[ds['BsmtQual']=='Gd']['SalePrice'].plot(kind='kde', ax=ax)\n",
        "ds[ds['BsmtQual']=='Ex']['SalePrice'].plot(kind='kde', ax=ax)\n",
        "ds[ds['BsmtQual']=='Missing']['SalePrice'].plot(kind='kde', ax=ax)\n",
        "ds[ds['BsmtQual']=='Fa']['SalePrice'].plot(kind='kde', ax=ax)\n",
        "\n",
        "\n",
        "# add the legend\n",
        "lines, labels = ax.get_legend_handles_labels()\n",
        "labels = ['TA', 'Gd', 'Ex', 'Missing', 'Fa']\n",
        "ax.legend(lines, labels, loc='best')"
      ]
    },
    {
      "cell_type": "markdown",
      "metadata": {
        "id": "BlggCQErVFlC"
      },
      "source": [
        "You can see that the houses with different labels show different distributions of prices. For example, the houses with the label \"Ex\" tend to be the most expensive, whereas the houses that show \"Missing\" or \"Fa\" are the cheapest."
      ]
    },
    {
      "cell_type": "code",
      "execution_count": null,
      "metadata": {
        "id": "qr1Yf__IJft1"
      },
      "outputs": [],
      "source": [
        "# lets store the original distribution of the SalePrice in a temorary\n",
        "# variable.\n",
        "# This is to compare the distribution of the SalePrice after and\n",
        "# before imputation\n",
        "\n",
        "\n",
        "tmp = ds[ds['BsmtQual']=='TA']['SalePrice']"
      ]
    },
    {
      "cell_type": "markdown",
      "metadata": {
        "id": "eGKWOUEYXPNn"
      },
      "source": [
        "### For FirePlaceQu Column"
      ]
    },
    {
      "cell_type": "code",
      "execution_count": 13,
      "metadata": {
        "colab": {
          "base_uri": "https://localhost:8080/"
        },
        "id": "G9uGSN7pK7W4",
        "outputId": "eb43d115-7c42-4a16-a65a-d34d16230ba4"
      },
      "outputs": [
        {
          "data": {
            "text/plain": [
              "0.4726027397260274"
            ]
          },
          "execution_count": 13,
          "metadata": {},
          "output_type": "execute_result"
        }
      ],
      "source": [
        "# let's again check the percentage of null values for this feature\n",
        "ds['FireplaceQu'].isnull().mean()"
      ]
    },
    {
      "cell_type": "code",
      "execution_count": 14,
      "metadata": {
        "colab": {
          "base_uri": "https://localhost:8080/",
          "height": 301
        },
        "id": "PspU1pjMXq1p",
        "outputId": "577cae85-939e-4ce5-ead7-2e0127923b09"
      },
      "outputs": [
        {
          "data": {
            "text/plain": [
              "Text(0, 0.5, 'Number of houses')"
            ]
          },
          "execution_count": 14,
          "metadata": {},
          "output_type": "execute_result"
        },
        {
          "data": {
            "image/png": "[encoded data removed]",
            "text/plain": [
              "<Figure size 432x288 with 1 Axes>"
            ]
          },
          "metadata": {
            "needs_background": "light"
          },
          "output_type": "display_data"
        }
      ],
      "source": [
        "# let's observe the number of observations per category\n",
        "\n",
        "ds['FireplaceQu'].value_counts().sort_values(ascending=False).plot.bar()\n",
        "plt.xlabel('FireplaceQu')\n",
        "plt.ylabel('Number of houses')"
      ]
    },
    {
      "cell_type": "code",
      "execution_count": 15,
      "metadata": {
        "id": "1Cb4KwjmXw3r"
      },
      "outputs": [],
      "source": [
        "# Let's fill NaN with new category 'Missing'\n",
        "\n",
        "ds['FireplaceQu'].fillna('Missing', inplace=True)"
      ]
    },
    {
      "cell_type": "code",
      "execution_count": 16,
      "metadata": {
        "colab": {
          "base_uri": "https://localhost:8080/",
          "height": 325
        },
        "id": "YA9Lg5uDf75o",
        "outputId": "af40455a-3b20-4e37-a982-0b3e3c96952d"
      },
      "outputs": [
        {
          "data": {
            "text/plain": [
              "Text(0, 0.5, 'Number of houses')"
            ]
          },
          "execution_count": 16,
          "metadata": {},
          "output_type": "execute_result"
        },
        {
          "data": {
            "image/png": "[encoded data removed]",
            "text/plain": [
              "<Figure size 432x288 with 1 Axes>"
            ]
          },
          "metadata": {
            "needs_background": "light"
          },
          "output_type": "display_data"
        }
      ],
      "source": [
        "# let's observe the number of observations per category after imputation\n",
        "\n",
        "ds['FireplaceQu'].value_counts().sort_values(ascending=False).plot.bar()\n",
        "plt.xlabel('FireplaceQu')\n",
        "plt.ylabel('Number of houses')"
      ]
    },
    {
      "cell_type": "markdown",
      "metadata": {
        "id": "EOGNq--8gFbI"
      },
      "source": [
        "We can see the new feature 'Missing' containing all the missing values"
      ]
    },
    {
      "cell_type": "code",
      "execution_count": 19,
      "metadata": {
        "id": "bOkKklrybbXE"
      },
      "outputs": [],
      "source": [
        "# let's plot the distribution of the target for the houses\n",
        "# that show the different categories of the variable\n",
        "def func_plot(ds, variable, target):\n",
        "    fig = plt.figure()\n",
        "    ax = fig.add_subplot(111)\n",
        "    \n",
        "    for category in ds[variable].unique():\n",
        "        ds[ds[variable]==category][target].plot(kind='kde', ax=ax)\n",
        "    \n",
        "    # add the legend\n",
        "    lines, labels = ax.get_legend_handles_labels()\n",
        "    labels = ds[variable].unique()\n",
        "    ax.legend(lines, labels, loc='best')\n",
        "    plt.show()\n",
        "        "
      ]
    },
    {
      "cell_type": "code",
      "execution_count": 21,
      "metadata": {
        "colab": {
          "base_uri": "https://localhost:8080/",
          "height": 289
        },
        "id": "AQ56L9GWhFt4",
        "outputId": "b5dc480e-7c60-4079-b3f0-df59c8da2553"
      },
      "outputs": [
        {
          "data": {
            "image/png": "[encoded data removed]",
            "text/plain": [
              "<Figure size 432x288 with 1 Axes>"
            ]
          },
          "metadata": {
            "needs_background": "light"
          },
          "output_type": "display_data"
        }
      ],
      "source": [
        "func_plot(ds, 'FireplaceQu', 'SalePrice')"
      ]
    },
    {
      "cell_type": "markdown",
      "metadata": {
        "id": "kNDm_kCJgZAK"
      },
      "source": [
        "We can see that the houses with different labels for FirePlaceQu also shows different distributions of SalePrice.\n"
      ]
    },
    {
      "cell_type": "markdown",
      "metadata": {
        "id": "KCJBzq1rM-lJ"
      },
      "source": [
        "Now we have to do the same steps for test set as well."
      ]
    }
  ],
  "metadata": {
    "colab": {
      "provenance": []
    },
    "kernelspec": {
      "display_name": "Python 3.10.6 64-bit",
      "language": "python",
      "name": "python3"
    },
    "language_info": {
      "name": "python",
      "version": "3.10.6"
    },
    "vscode": {
      "interpreter": {
        "hash": "7e1998ff7f8aa20ada591c520b972326324e5ea05489af9e422744c7c09f6dad"
      }
    }
  },
  "nbformat": 4,
  "nbformat_minor": 0
}
